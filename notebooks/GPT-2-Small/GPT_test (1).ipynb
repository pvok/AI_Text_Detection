{
 "cells": [
  {
   "cell_type": "code",
   "execution_count": 2,
   "metadata": {},
   "outputs": [],
   "source": [
    "import pandas as pd\n",
    "import torch\n",
    "from torch.utils.data import Dataset, DataLoader\n",
    "from transformers import RobertaTokenizer, RobertaForSequenceClassification\n",
    "from sklearn.metrics import accuracy_score, roc_curve, auc\n",
    "import matplotlib.pyplot as plt\n",
    "\n",
    "# Load test data\n",
    "test_df = pd.read_csv(r\"C:\\Users\\sagar\\OneDrive\\Desktop\\Sem 3\\Deep Learning\\Project 3\\to_Transformer_test\")"
   ]
  },
  {
   "cell_type": "raw",
   "metadata": {},
   "source": [
    "# Sample a subset of data for testing to reduce computation\n",
    "#sampled_df = test_df.sample(n=10, random_state=40)\n"
   ]
  },
  {
   "cell_type": "raw",
   "metadata": {},
   "source": [
    "import contractions\n",
    "# Lowercase conversion\n",
    "test_df['sentences'] = test_df['text'].str.lower()\n",
    "\n",
    "# Expanding contractions\n",
    "test_df['sentences'] = test_df['sentences'].apply(lambda x: contractions.fix(x))\n",
    "\n",
    "# Tokenization\n",
    "\n",
    "##Sentence_length_calculation\n",
    "test_df['sentences'] = test_df['sentences'].apply(lambda x: x.split('.'))\n",
    "test_df.to_csv('to_Transformer_test')"
   ]
  },
  {
   "cell_type": "code",
   "execution_count": 3,
   "metadata": {},
   "outputs": [
    {
     "data": {
      "text/html": [
       "<div>\n",
       "<style scoped>\n",
       "    .dataframe tbody tr th:only-of-type {\n",
       "        vertical-align: middle;\n",
       "    }\n",
       "\n",
       "    .dataframe tbody tr th {\n",
       "        vertical-align: top;\n",
       "    }\n",
       "\n",
       "    .dataframe thead th {\n",
       "        text-align: right;\n",
       "    }\n",
       "</style>\n",
       "<table border=\"1\" class=\"dataframe\">\n",
       "  <thead>\n",
       "    <tr style=\"text-align: right;\">\n",
       "      <th></th>\n",
       "      <th>Unnamed: 0.1</th>\n",
       "      <th>Unnamed: 0</th>\n",
       "      <th>text</th>\n",
       "      <th>source</th>\n",
       "      <th>label</th>\n",
       "      <th>sentences</th>\n",
       "      <th>predictions</th>\n",
       "      <th>probabilities</th>\n",
       "    </tr>\n",
       "  </thead>\n",
       "  <tbody>\n",
       "    <tr>\n",
       "      <th>0</th>\n",
       "      <td>0</td>\n",
       "      <td>0</td>\n",
       "      <td>I have done the IELTS test. I would like to sh...</td>\n",
       "      <td>Human</td>\n",
       "      <td>0</td>\n",
       "      <td>['i have done the ielts test', ' i would like ...</td>\n",
       "      <td>0</td>\n",
       "      <td>0.001694</td>\n",
       "    </tr>\n",
       "    <tr>\n",
       "      <th>1</th>\n",
       "      <td>1</td>\n",
       "      <td>1</td>\n",
       "      <td>The marriage of Richard II of England to Anne ...</td>\n",
       "      <td>Human</td>\n",
       "      <td>0</td>\n",
       "      <td>['the marriage of richard ii of england to ann...</td>\n",
       "      <td>0</td>\n",
       "      <td>0.336719</td>\n",
       "    </tr>\n",
       "    <tr>\n",
       "      <th>2</th>\n",
       "      <td>2</td>\n",
       "      <td>2</td>\n",
       "      <td>Women From the Downtown Eastside: Gender Inequ...</td>\n",
       "      <td>Human</td>\n",
       "      <td>0</td>\n",
       "      <td>['women from the downtown eastside: gender ine...</td>\n",
       "      <td>0</td>\n",
       "      <td>0.000919</td>\n",
       "    </tr>\n",
       "    <tr>\n",
       "      <th>3</th>\n",
       "      <td>3</td>\n",
       "      <td>3</td>\n",
       "      <td>Women’s Health. Sexually Transmitted Diseases ...</td>\n",
       "      <td>Human</td>\n",
       "      <td>0</td>\n",
       "      <td>['women’s health', ' sexually transmitted dise...</td>\n",
       "      <td>0</td>\n",
       "      <td>0.000295</td>\n",
       "    </tr>\n",
       "    <tr>\n",
       "      <th>4</th>\n",
       "      <td>4</td>\n",
       "      <td>4</td>\n",
       "      <td>“A Primer on Corporate Governance” by Kluyver ...</td>\n",
       "      <td>Human</td>\n",
       "      <td>0</td>\n",
       "      <td>['“a primer on corporate governance” by kluyve...</td>\n",
       "      <td>0</td>\n",
       "      <td>0.002244</td>\n",
       "    </tr>\n",
       "    <tr>\n",
       "      <th>...</th>\n",
       "      <td>...</td>\n",
       "      <td>...</td>\n",
       "      <td>...</td>\n",
       "      <td>...</td>\n",
       "      <td>...</td>\n",
       "      <td>...</td>\n",
       "      <td>...</td>\n",
       "      <td>...</td>\n",
       "    </tr>\n",
       "    <tr>\n",
       "      <th>995</th>\n",
       "      <td>995</td>\n",
       "      <td>995</td>\n",
       "      <td>The cybersecurity community is abuzz with the ...</td>\n",
       "      <td>GPT-3.5</td>\n",
       "      <td>1</td>\n",
       "      <td>['the cybersecurity community is abuzz with th...</td>\n",
       "      <td>1</td>\n",
       "      <td>0.999907</td>\n",
       "    </tr>\n",
       "    <tr>\n",
       "      <th>996</th>\n",
       "      <td>996</td>\n",
       "      <td>996</td>\n",
       "      <td>As a language model AI, I cannot agree or disa...</td>\n",
       "      <td>GPT-3.5</td>\n",
       "      <td>1</td>\n",
       "      <td>['as a language model ai, i cannot agree or di...</td>\n",
       "      <td>1</td>\n",
       "      <td>0.998958</td>\n",
       "    </tr>\n",
       "    <tr>\n",
       "      <th>997</th>\n",
       "      <td>997</td>\n",
       "      <td>997</td>\n",
       "      <td>The night was falling on the western hemispher...</td>\n",
       "      <td>GPT-3.5</td>\n",
       "      <td>1</td>\n",
       "      <td>['the night was falling on the western hemisph...</td>\n",
       "      <td>1</td>\n",
       "      <td>0.999971</td>\n",
       "    </tr>\n",
       "    <tr>\n",
       "      <th>998</th>\n",
       "      <td>998</td>\n",
       "      <td>998</td>\n",
       "      <td>The Pirate Bay (TPB) has been able to continue...</td>\n",
       "      <td>GPT-3.5</td>\n",
       "      <td>1</td>\n",
       "      <td>['the pirate bay (tpb) has been able to contin...</td>\n",
       "      <td>1</td>\n",
       "      <td>0.937829</td>\n",
       "    </tr>\n",
       "    <tr>\n",
       "      <th>999</th>\n",
       "      <td>999</td>\n",
       "      <td>999</td>\n",
       "      <td>Education plays a crucial role in promoting en...</td>\n",
       "      <td>GPT-3.5</td>\n",
       "      <td>1</td>\n",
       "      <td>['education plays a crucial role in promoting ...</td>\n",
       "      <td>1</td>\n",
       "      <td>0.999897</td>\n",
       "    </tr>\n",
       "  </tbody>\n",
       "</table>\n",
       "<p>1000 rows × 8 columns</p>\n",
       "</div>"
      ],
      "text/plain": [
       "     Unnamed: 0.1  Unnamed: 0  \\\n",
       "0               0           0   \n",
       "1               1           1   \n",
       "2               2           2   \n",
       "3               3           3   \n",
       "4               4           4   \n",
       "..            ...         ...   \n",
       "995           995         995   \n",
       "996           996         996   \n",
       "997           997         997   \n",
       "998           998         998   \n",
       "999           999         999   \n",
       "\n",
       "                                                  text   source  label  \\\n",
       "0    I have done the IELTS test. I would like to sh...    Human      0   \n",
       "1    The marriage of Richard II of England to Anne ...    Human      0   \n",
       "2    Women From the Downtown Eastside: Gender Inequ...    Human      0   \n",
       "3    Women’s Health. Sexually Transmitted Diseases ...    Human      0   \n",
       "4    “A Primer on Corporate Governance” by Kluyver ...    Human      0   \n",
       "..                                                 ...      ...    ...   \n",
       "995  The cybersecurity community is abuzz with the ...  GPT-3.5      1   \n",
       "996  As a language model AI, I cannot agree or disa...  GPT-3.5      1   \n",
       "997  The night was falling on the western hemispher...  GPT-3.5      1   \n",
       "998  The Pirate Bay (TPB) has been able to continue...  GPT-3.5      1   \n",
       "999  Education plays a crucial role in promoting en...  GPT-3.5      1   \n",
       "\n",
       "                                             sentences  predictions  \\\n",
       "0    ['i have done the ielts test', ' i would like ...            0   \n",
       "1    ['the marriage of richard ii of england to ann...            0   \n",
       "2    ['women from the downtown eastside: gender ine...            0   \n",
       "3    ['women’s health', ' sexually transmitted dise...            0   \n",
       "4    ['“a primer on corporate governance” by kluyve...            0   \n",
       "..                                                 ...          ...   \n",
       "995  ['the cybersecurity community is abuzz with th...            1   \n",
       "996  ['as a language model ai, i cannot agree or di...            1   \n",
       "997  ['the night was falling on the western hemisph...            1   \n",
       "998  ['the pirate bay (tpb) has been able to contin...            1   \n",
       "999  ['education plays a crucial role in promoting ...            1   \n",
       "\n",
       "     probabilities  \n",
       "0         0.001694  \n",
       "1         0.336719  \n",
       "2         0.000919  \n",
       "3         0.000295  \n",
       "4         0.002244  \n",
       "..             ...  \n",
       "995       0.999907  \n",
       "996       0.998958  \n",
       "997       0.999971  \n",
       "998       0.937829  \n",
       "999       0.999897  \n",
       "\n",
       "[1000 rows x 8 columns]"
      ]
     },
     "execution_count": 3,
     "metadata": {},
     "output_type": "execute_result"
    }
   ],
   "source": [
    "test_df"
   ]
  },
  {
   "cell_type": "code",
   "execution_count": 4,
   "metadata": {},
   "outputs": [],
   "source": [
    "\n",
    "from transformers import GPT2Tokenizer, GPT2ForSequenceClassification, TrainingArguments, Trainer"
   ]
  },
  {
   "cell_type": "code",
   "execution_count": 5,
   "metadata": {},
   "outputs": [
    {
     "data": {
      "text/plain": [
       "GPT2ForSequenceClassification(\n",
       "  (transformer): GPT2Model(\n",
       "    (wte): Embedding(50257, 768)\n",
       "    (wpe): Embedding(1024, 768)\n",
       "    (drop): Dropout(p=0.1, inplace=False)\n",
       "    (h): ModuleList(\n",
       "      (0-11): 12 x GPT2Block(\n",
       "        (ln_1): LayerNorm((768,), eps=1e-05, elementwise_affine=True)\n",
       "        (attn): GPT2Attention(\n",
       "          (c_attn): Conv1D()\n",
       "          (c_proj): Conv1D()\n",
       "          (attn_dropout): Dropout(p=0.1, inplace=False)\n",
       "          (resid_dropout): Dropout(p=0.1, inplace=False)\n",
       "        )\n",
       "        (ln_2): LayerNorm((768,), eps=1e-05, elementwise_affine=True)\n",
       "        (mlp): GPT2MLP(\n",
       "          (c_fc): Conv1D()\n",
       "          (c_proj): Conv1D()\n",
       "          (act): NewGELUActivation()\n",
       "          (dropout): Dropout(p=0.1, inplace=False)\n",
       "        )\n",
       "      )\n",
       "    )\n",
       "    (ln_f): LayerNorm((768,), eps=1e-05, elementwise_affine=True)\n",
       "  )\n",
       "  (score): Linear(in_features=768, out_features=2, bias=False)\n",
       ")"
      ]
     },
     "execution_count": 5,
     "metadata": {},
     "output_type": "execute_result"
    }
   ],
   "source": [
    "# Load the tokenizer and model\n",
    "model_path = './saved_model_GPT2_Venkat_final'  # Adjust to where your model is saved\n",
    "model = GPT2ForSequenceClassification.from_pretrained(model_path)\n",
    "tokenizer = GPT2Tokenizer.from_pretrained(model_path)\n",
    "model.eval()\n",
    "\n",
    "\n",
    "\n",
    "# Assuming new_df is your DataFrame and it has 'sentences' and 'generated' as columns\n"
   ]
  },
  {
   "cell_type": "raw",
   "metadata": {},
   "source": [
    "# Freeze all parameters first\n",
    "for param in model.parameters():\n",
    "    param.requires_grad = False\n",
    "\n",
    "# Unfreeze the last few transformer blocks and the classification head\n",
    "unfreeze_layers = [ 'h.11', 'ln_f', 'score']\n",
    "for name, param in model.named_parameters():\n",
    "    if any(layer in name for layer in unfreeze_layers):\n",
    "        param.requires_grad = True\n",
    "\n",
    "# Check which parameters are trainable now\n",
    "for name, param in model.named_parameters():\n",
    "    print(f\"{name}: trainable={param.requires_grad}\")"
   ]
  },
  {
   "cell_type": "code",
   "execution_count": 6,
   "metadata": {},
   "outputs": [],
   "source": [
    "test = test_df['sentences'].tolist()"
   ]
  },
  {
   "cell_type": "code",
   "execution_count": 7,
   "metadata": {},
   "outputs": [],
   "source": [
    "import pandas as pd\n",
    "import torch\n",
    "from torch.utils.data import Dataset\n",
    "from sklearn.model_selection import train_test_split\n",
    "from transformers import GPT2Tokenizer, GPT2ForSequenceClassification, Trainer, TrainingArguments\n"
   ]
  },
  {
   "cell_type": "code",
   "execution_count": 8,
   "metadata": {},
   "outputs": [],
   "source": [
    "# Initialize the tokenizer\n",
    "# tokenizer = GPT2Tokenizer.from_pretrained('gpt2')\n",
    "\n",
    "# Set padding token if it's not already defined\n",
    "if tokenizer.pad_token is None:\n",
    "    tokenizer.pad_token = tokenizer.eos_token\n",
    "\n",
    "# # Now tokenize the flat list of sentences\n",
    "# inputs = tokenizer(test, truncation=True, padding=\"max_length\", max_length=512, return_tensors=\"pt\")\n"
   ]
  },
  {
   "cell_type": "code",
   "execution_count": 9,
   "metadata": {},
   "outputs": [
    {
     "data": {
      "text/plain": [
       "GPT2ForSequenceClassification(\n",
       "  (transformer): GPT2Model(\n",
       "    (wte): Embedding(50257, 768)\n",
       "    (wpe): Embedding(1024, 768)\n",
       "    (drop): Dropout(p=0.1, inplace=False)\n",
       "    (h): ModuleList(\n",
       "      (0-11): 12 x GPT2Block(\n",
       "        (ln_1): LayerNorm((768,), eps=1e-05, elementwise_affine=True)\n",
       "        (attn): GPT2Attention(\n",
       "          (c_attn): Conv1D()\n",
       "          (c_proj): Conv1D()\n",
       "          (attn_dropout): Dropout(p=0.1, inplace=False)\n",
       "          (resid_dropout): Dropout(p=0.1, inplace=False)\n",
       "        )\n",
       "        (ln_2): LayerNorm((768,), eps=1e-05, elementwise_affine=True)\n",
       "        (mlp): GPT2MLP(\n",
       "          (c_fc): Conv1D()\n",
       "          (c_proj): Conv1D()\n",
       "          (act): NewGELUActivation()\n",
       "          (dropout): Dropout(p=0.1, inplace=False)\n",
       "        )\n",
       "      )\n",
       "    )\n",
       "    (ln_f): LayerNorm((768,), eps=1e-05, elementwise_affine=True)\n",
       "  )\n",
       "  (score): Linear(in_features=768, out_features=2, bias=False)\n",
       ")"
      ]
     },
     "execution_count": 9,
     "metadata": {},
     "output_type": "execute_result"
    }
   ],
   "source": [
    "\n",
    "from tqdm import tqdm\n",
    "#device = torch.device(\"cuda\")\n",
    "device = torch.device(\"cuda\" if torch.cuda.is_available() else \"cpu\")\n",
    "model.to(device)"
   ]
  },
  {
   "cell_type": "code",
   "execution_count": 10,
   "metadata": {},
   "outputs": [
    {
     "data": {
      "text/plain": [
       "device(type='cuda')"
      ]
     },
     "execution_count": 10,
     "metadata": {},
     "output_type": "execute_result"
    }
   ],
   "source": [
    "device"
   ]
  },
  {
   "cell_type": "raw",
   "metadata": {},
   "source": [
    "predictions = []\n",
    "probabilities = []\n",
    "\n",
    "for index, row in tqdm(test_df.iterrows()):\n",
    "    input_ids = tokenizer(row['sentences'], truncation=True, padding=\"max_length\", max_length=512, return_tensors=\"pt\")\n",
    "    \n",
    "    with torch.no_grad():\n",
    "        outputs = model(**input_ids)\n",
    "        probs = torch.nn.functional.softmax(outputs.logits, dim=-1).numpy()\n",
    "        predictions.append(probs.argmax(axis=-1)[0])\n",
    "        probabilities.append(probs[0, 1])  # Storing the probability of the positive class\n"
   ]
  },
  {
   "cell_type": "raw",
   "metadata": {},
   "source": [
    "predictions = []\n",
    "probabilities = []\n",
    "\n",
    "for index, row in tqdm(test_df.iterrows()):\n",
    "    input_ids = tokenizer(row['sentences'], truncation=True, padding=\"max_length\", max_length=512, return_tensors=\"pt\")\n",
    "    \n",
    "    # Move input_ids tensor to the same device as the model\n",
    "    input_ids = {key: value.to(device) for key, value in input_ids.items()}\n",
    "    \n",
    "    with torch.no_grad():\n",
    "        outputs = model(**input_ids)\n",
    "        logits = outputs.logits\n",
    "        \n",
    "        # Move logits tensor to CPU and then convert it to a NumPy array\n",
    "        probs = torch.nn.functional.softmax(logits.to('cpu'), dim=-1).numpy()\n",
    "        \n",
    "        predictions.append(probs.argmax(axis=-1)[0])\n",
    "        probabilities.append(probs[0, 1])  # Storing the probability of the positive class\n",
    "    del input_ids, outputs, logits, probs"
   ]
  },
  {
   "cell_type": "code",
   "execution_count": 26,
   "metadata": {},
   "outputs": [
    {
     "name": "stderr",
     "output_type": "stream",
     "text": [
      "1000it [00:18, 54.68it/s]\n"
     ]
    }
   ],
   "source": [
    "predictions = []\n",
    "probabilities = []\n",
    "\n",
    "\n",
    "for index, row in tqdm(test_df.iterrows()):\n",
    "    input_ids = tokenizer(row['sentences'], truncation=True, padding=\"max_length\", max_length=512, return_tensors=\"pt\")\n",
    "    \n",
    "    # Move input_ids tensor to the same device as the model\n",
    "    input_ids = {key: value.to(device) for key, value in input_ids.items()}\n",
    "\n",
    "    true_label = torch.tensor(row['label']).to(device)\n",
    "    \n",
    "    with torch.no_grad():\n",
    "        outputs = model(**input_ids)\n",
    "        logits = outputs.logits\n",
    "        \n",
    "        # Move logits tensor to CPU and then convert it to a NumPy array\n",
    "        logits_cpu = logits.to('cpu')\n",
    "        probs = torch.nn.functional.softmax(logits_cpu, dim=-1).numpy()\n",
    "        \n",
    "        # Deallocate GPU memory\n",
    "        del logits, logits_cpu\n",
    "        \n",
    "        predictions.append(probs.argmax(axis=-1)[0])\n",
    "        probabilities.append(probs[0, 1])  # Storing the probability of the positive class\n",
    "        \n",
    "        "
   ]
  },
  {
   "cell_type": "code",
   "execution_count": 27,
   "metadata": {},
   "outputs": [],
   "source": [
    "# Store predictions in the DataFrame\n",
    "test_df['predictions'] = predictions\n",
    "test_df['probabilities'] = probabilities"
   ]
  },
  {
   "cell_type": "code",
   "execution_count": 28,
   "metadata": {},
   "outputs": [
    {
     "name": "stdout",
     "output_type": "stream",
     "text": [
      "Accuracy: 0.9740\n"
     ]
    }
   ],
   "source": [
    "actual_labels = test_df['label'].values\n",
    "accuracy = accuracy_score(actual_labels, predictions)\n",
    "print(f\"Accuracy: {accuracy:.4f}\")\n"
   ]
  },
  {
   "cell_type": "code",
   "execution_count": 29,
   "metadata": {},
   "outputs": [
    {
     "name": "stdout",
     "output_type": "stream",
     "text": [
      "0.9739998959995839\n"
     ]
    }
   ],
   "source": [
    "from sklearn.metrics import confusion_matrix, f1_score\n",
    "f1score = f1_score(test_df['label'].values, test_df['predictions'], average='weighted')\n",
    "print(f1score)"
   ]
  },
  {
   "cell_type": "code",
   "execution_count": 31,
   "metadata": {},
   "outputs": [
    {
     "name": "stdout",
     "output_type": "stream",
     "text": [
      "Binary Cross-Entropy Loss: 0.9371349881170461\n"
     ]
    },
    {
     "name": "stderr",
     "output_type": "stream",
     "text": [
      "C:\\Users\\sagar\\anaconda3\\envs\\tf\\lib\\site-packages\\numpy\\core\\fromnumeric.py:59: FutureWarning: Downcasting behavior in Series and DataFrame methods 'where', 'mask', and 'clip' is deprecated. In a future version this will not infer object dtypes or cast all-round floats to integers. Instead call result.infer_objects(copy=False) for object inference, or cast round floats explicitly. To opt-in to the future behavior, set `pd.set_option('future.no_silent_downcasting', True)`\n",
      "  return bound(*args, **kwds)\n",
      "C:\\Users\\sagar\\anaconda3\\envs\\tf\\lib\\site-packages\\numpy\\core\\fromnumeric.py:59: FutureWarning: Downcasting behavior in Series and DataFrame methods 'where', 'mask', and 'clip' is deprecated. In a future version this will not infer object dtypes or cast all-round floats to integers. Instead call result.infer_objects(copy=False) for object inference, or cast round floats explicitly. To opt-in to the future behavior, set `pd.set_option('future.no_silent_downcasting', True)`\n",
      "  return bound(*args, **kwds)\n"
     ]
    }
   ],
   "source": [
    "from sklearn.metrics import log_loss\n",
    "import numpy as np\n",
    "# Assuming test_df['predictions'] and test_df['label'] are NumPy arrays or lists\n",
    "predictions = test_df['predictions']  # Predicted probabilities\n",
    "labels = test_df['label']  # True labels\n",
    "\n",
    "# Ensure predictions are probabilities between 0 and 1\n",
    "predictions = np.clip(predictions, 1e-15, 1 - 1e-15)\n",
    "\n",
    "# Calculate binary cross-entropy loss\n",
    "binary_cross_entropy_loss = log_loss(labels, predictions)\n",
    "\n",
    "print(\"Binary Cross-Entropy Loss:\", binary_cross_entropy_loss)"
   ]
  },
  {
   "cell_type": "code",
   "execution_count": 34,
   "metadata": {},
   "outputs": [
    {
     "data": {
      "text/plain": [
       "0      0\n",
       "1      0\n",
       "2      1\n",
       "3      0\n",
       "4      0\n",
       "      ..\n",
       "995    1\n",
       "996    1\n",
       "997    1\n",
       "998    1\n",
       "999    1\n",
       "Name: predictions, Length: 1000, dtype: int64"
      ]
     },
     "execution_count": 34,
     "metadata": {},
     "output_type": "execute_result"
    }
   ],
   "source": [
    "predictions"
   ]
  },
  {
   "cell_type": "code",
   "execution_count": 35,
   "metadata": {},
   "outputs": [
    {
     "name": "stderr",
     "output_type": "stream",
     "text": [
      "C:\\Users\\sagar\\anaconda3\\envs\\tf\\lib\\site-packages\\numpy\\core\\fromnumeric.py:59: FutureWarning: Downcasting behavior in Series and DataFrame methods 'where', 'mask', and 'clip' is deprecated. In a future version this will not infer object dtypes or cast all-round floats to integers. Instead call result.infer_objects(copy=False) for object inference, or cast round floats explicitly. To opt-in to the future behavior, set `pd.set_option('future.no_silent_downcasting', True)`\n",
      "  return bound(*args, **kwds)\n",
      "C:\\Users\\sagar\\anaconda3\\envs\\tf\\lib\\site-packages\\numpy\\core\\fromnumeric.py:59: FutureWarning: Downcasting behavior in Series and DataFrame methods 'where', 'mask', and 'clip' is deprecated. In a future version this will not infer object dtypes or cast all-round floats to integers. Instead call result.infer_objects(copy=False) for object inference, or cast round floats explicitly. To opt-in to the future behavior, set `pd.set_option('future.no_silent_downcasting', True)`\n",
      "  return bound(*args, **kwds)\n"
     ]
    },
    {
     "data": {
      "image/png": "[encoded data removed]",
      "text/plain": [
       "<Figure size 800x600 with 1 Axes>"
      ]
     },
     "metadata": {},
     "output_type": "display_data"
    }
   ],
   "source": [
    "import numpy as np\n",
    "import matplotlib.pyplot as plt\n",
    "from sklearn.metrics import roc_curve, roc_auc_score\n",
    "\n",
    "# Assuming test_df['predictions'] and test_df['label'] are NumPy arrays or lists\n",
    "predictions = test_df['predictions']  # Predicted probabilities\n",
    "labels = test_df['label']  # True labels\n",
    "\n",
    "# Ensure predictions are probabilities between 0 and 1\n",
    "predictions = np.clip(predictions, 1e-15, 1 - 1e-15)\n",
    "\n",
    "# Calculate ROC curve\n",
    "fpr, tpr, thresholds = roc_curve(labels, predictions)\n",
    "\n",
    "# Calculate AUC (Area Under the Curve)\n",
    "auc = roc_auc_score(labels, predictions)\n",
    "\n",
    "# Plot ROC curve\n",
    "plt.figure(figsize=(8, 6))\n",
    "plt.plot(fpr, tpr, color='blue', lw=2, label='ROC curve (AUC = %0.2f)' % auc)\n",
    "plt.plot([0, 1], [0, 1], color='gray', linestyle='--')\n",
    "plt.xlim([0.0, 1.0])\n",
    "plt.ylim([0.0, 1.05])\n",
    "plt.xlabel('False Positive Rate')\n",
    "plt.ylabel('True Positive Rate')\n",
    "plt.title('Receiver Operating Characteristic (ROC) Curve')\n",
    "plt.legend(loc=\"lower right\")\n",
    "plt.grid(True)\n",
    "plt.show()\n"
   ]
  },
  {
   "cell_type": "code",
   "execution_count": null,
   "metadata": {},
   "outputs": [],
   "source": []
  }
 ],
 "metadata": {
  "kernelspec": {
   "display_name": "Python 3 (ipykernel)",
   "language": "python",
   "name": "python3"
  },
  "language_info": {
   "codemirror_mode": {
    "name": "ipython",
    "version": 3
   },
   "file_extension": ".py",
   "mimetype": "text/x-python",
   "name": "python",
   "nbconvert_exporter": "python",
   "pygments_lexer": "ipython3",
   "version": "3.9.19"
  }
 },
 "nbformat": 4,
 "nbformat_minor": 4
}
