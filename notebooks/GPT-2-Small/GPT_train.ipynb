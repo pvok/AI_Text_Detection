{
 "cells": [
  {
   "cell_type": "code",
   "execution_count": 1,
   "metadata": {},
   "outputs": [],
   "source": [
    "import os\n",
    "import torch\n",
    "import numpy as np\n",
    "import pandas as pd\n",
    "import matplotlib.pyplot as plt\n",
    "from torch.utils.data import Dataset, DataLoader\n",
    "#from transformers import RobertaTokenizer, RobertaForSequenceClassification, AdamW\n",
    "from sklearn.metrics import accuracy_score, roc_curve, auc, confusion_matrix\n",
    "from datasets import load_metric\n"
   ]
  },
  {
   "cell_type": "code",
   "execution_count": 2,
   "metadata": {},
   "outputs": [],
   "source": [
    "# Load data\n",
    "df_train = pd.read_csv(r'C:\\Users\\sagar\\OneDrive\\Desktop\\Sem 3\\Deep Learning\\Project 3\\to_Transformer_train.csv')\n",
    "df_val = pd.read_csv(r'C:\\Users\\sagar\\OneDrive\\Desktop\\Sem 3\\Deep Learning\\Project 3\\to_Transformer_val.csv')\n",
    "\n",
    "# Reset index\n",
    "#df_train = df_train.reset_index(drop=True)\n",
    "#df_val = df_val.reset_index(drop=True)"
   ]
  },
  {
   "cell_type": "raw",
   "metadata": {},
   "source": [
    "import contractions\n",
    "# Lowercase conversion\n",
    "df_train['sentences'] = df_train['text'].str.lower()\n",
    "\n",
    "# Expanding contractions\n",
    "df_train['sentences'] = df_train['sentences'].apply(lambda x: contractions.fix(x))\n",
    "\n",
    "# Tokenization\n",
    "\n",
    "##Sentence_length_calculation\n",
    "df_train['sentences'] = df_train['sentences'].apply(lambda x: x.split('.'))"
   ]
  },
  {
   "cell_type": "raw",
   "metadata": {},
   "source": [
    "import contractions\n",
    "# Lowercase conversion\n",
    "df_val['sentences'] = df_val['text'].str.lower()\n",
    "\n",
    "# Expanding contractions\n",
    "df_val['sentences'] = df_val['sentences'].apply(lambda x: contractions.fix(x))\n",
    "\n",
    "# Tokenization\n",
    "\n",
    "##Sentence_length_calculation\n",
    "df_val['sentences'] = df_val['sentences'].apply(lambda x: x.split('.'))"
   ]
  },
  {
   "cell_type": "code",
   "execution_count": 3,
   "metadata": {},
   "outputs": [
    {
     "data": {
      "text/html": [
       "<div>\n",
       "<style scoped>\n",
       "    .dataframe tbody tr th:only-of-type {\n",
       "        vertical-align: middle;\n",
       "    }\n",
       "\n",
       "    .dataframe tbody tr th {\n",
       "        vertical-align: top;\n",
       "    }\n",
       "\n",
       "    .dataframe thead th {\n",
       "        text-align: right;\n",
       "    }\n",
       "</style>\n",
       "<table border=\"1\" class=\"dataframe\">\n",
       "  <thead>\n",
       "    <tr style=\"text-align: right;\">\n",
       "      <th></th>\n",
       "      <th>Unnamed: 0</th>\n",
       "      <th>text</th>\n",
       "      <th>source</th>\n",
       "      <th>label</th>\n",
       "      <th>essays_lower</th>\n",
       "      <th>expanded_text</th>\n",
       "      <th>sentences</th>\n",
       "    </tr>\n",
       "  </thead>\n",
       "  <tbody>\n",
       "    <tr>\n",
       "      <th>0</th>\n",
       "      <td>11081</td>\n",
       "      <td>The 28-year-old was a free agent after leaving...</td>\n",
       "      <td>Human</td>\n",
       "      <td>0</td>\n",
       "      <td>the 28-year-old was a free agent after leaving...</td>\n",
       "      <td>the 28-year-old was a free agent after leaving...</td>\n",
       "      <td>['the 28-year-old was a free agent after leavi...</td>\n",
       "    </tr>\n",
       "    <tr>\n",
       "      <th>1</th>\n",
       "      <td>11854</td>\n",
       "      <td>Relationship: Communication Between Family Mem...</td>\n",
       "      <td>Human</td>\n",
       "      <td>0</td>\n",
       "      <td>relationship: communication between family mem...</td>\n",
       "      <td>relationship: communication between family mem...</td>\n",
       "      <td>['relationship: communication between family m...</td>\n",
       "    </tr>\n",
       "    <tr>\n",
       "      <th>2</th>\n",
       "      <td>24209</td>\n",
       "      <td>RAK Bank Organization in UAE Report\\n\\nIntrodu...</td>\n",
       "      <td>Human</td>\n",
       "      <td>0</td>\n",
       "      <td>rak bank organization in uae report\\n\\nintrodu...</td>\n",
       "      <td>rak bank organization in uae report\\n\\nintrodu...</td>\n",
       "      <td>['rak bank organization in uae report\\n\\nintro...</td>\n",
       "    </tr>\n",
       "    <tr>\n",
       "      <th>3</th>\n",
       "      <td>22650</td>\n",
       "      <td>Good downtown location and open late during wi...</td>\n",
       "      <td>Human</td>\n",
       "      <td>0</td>\n",
       "      <td>good downtown location and open late during wi...</td>\n",
       "      <td>good downtown location and open late during wi...</td>\n",
       "      <td>['good downtown location and open late during ...</td>\n",
       "    </tr>\n",
       "    <tr>\n",
       "      <th>4</th>\n",
       "      <td>19915</td>\n",
       "      <td>The Issue of the Partitioning of India into In...</td>\n",
       "      <td>Human</td>\n",
       "      <td>0</td>\n",
       "      <td>the issue of the partitioning of india into in...</td>\n",
       "      <td>the issue of the partitioning of india into in...</td>\n",
       "      <td>['the issue of the partitioning of india into ...</td>\n",
       "    </tr>\n",
       "    <tr>\n",
       "      <th>...</th>\n",
       "      <td>...</td>\n",
       "      <td>...</td>\n",
       "      <td>...</td>\n",
       "      <td>...</td>\n",
       "      <td>...</td>\n",
       "      <td>...</td>\n",
       "      <td>...</td>\n",
       "    </tr>\n",
       "    <tr>\n",
       "      <th>19995</th>\n",
       "      <td>49468</td>\n",
       "      <td>You never expected your death to be heroic. As...</td>\n",
       "      <td>GPT-3.5</td>\n",
       "      <td>1</td>\n",
       "      <td>you never expected your death to be heroic. as...</td>\n",
       "      <td>you never expected your death to be heroic. as...</td>\n",
       "      <td>['you never expected your death to be heroic',...</td>\n",
       "    </tr>\n",
       "    <tr>\n",
       "      <th>19996</th>\n",
       "      <td>33831</td>\n",
       "      <td>Had the prix fixe menu featuring Hot Sour Soup...</td>\n",
       "      <td>GPT-3.5</td>\n",
       "      <td>1</td>\n",
       "      <td>had the prix fixe menu featuring hot sour soup...</td>\n",
       "      <td>had the prix fixe menu featuring hot sour soup...</td>\n",
       "      <td>['had the prix fixe menu featuring hot sour so...</td>\n",
       "    </tr>\n",
       "    <tr>\n",
       "      <th>19997</th>\n",
       "      <td>41443</td>\n",
       "      <td>Coral reefs are one of the most diverse and im...</td>\n",
       "      <td>GPT-3.5</td>\n",
       "      <td>1</td>\n",
       "      <td>coral reefs are one of the most diverse and im...</td>\n",
       "      <td>coral reefs are one of the most diverse and im...</td>\n",
       "      <td>['coral reefs are one of the most diverse and ...</td>\n",
       "    </tr>\n",
       "    <tr>\n",
       "      <th>19998</th>\n",
       "      <td>26481</td>\n",
       "      <td>While it is idealistic to believe that race sh...</td>\n",
       "      <td>GPT-3.5</td>\n",
       "      <td>1</td>\n",
       "      <td>while it is idealistic to believe that race sh...</td>\n",
       "      <td>while it is idealistic to believe that race sh...</td>\n",
       "      <td>[\"while it is idealistic to believe that race ...</td>\n",
       "    </tr>\n",
       "    <tr>\n",
       "      <th>19999</th>\n",
       "      <td>34455</td>\n",
       "      <td>Public parks play a crucial role in promoting ...</td>\n",
       "      <td>GPT-3.5</td>\n",
       "      <td>1</td>\n",
       "      <td>public parks play a crucial role in promoting ...</td>\n",
       "      <td>public parks play a crucial role in promoting ...</td>\n",
       "      <td>['public parks play a crucial role in promotin...</td>\n",
       "    </tr>\n",
       "  </tbody>\n",
       "</table>\n",
       "<p>20000 rows × 7 columns</p>\n",
       "</div>"
      ],
      "text/plain": [
       "       Unnamed: 0                                               text   source  \\\n",
       "0           11081  The 28-year-old was a free agent after leaving...    Human   \n",
       "1           11854  Relationship: Communication Between Family Mem...    Human   \n",
       "2           24209  RAK Bank Organization in UAE Report\\n\\nIntrodu...    Human   \n",
       "3           22650  Good downtown location and open late during wi...    Human   \n",
       "4           19915  The Issue of the Partitioning of India into In...    Human   \n",
       "...           ...                                                ...      ...   \n",
       "19995       49468  You never expected your death to be heroic. As...  GPT-3.5   \n",
       "19996       33831  Had the prix fixe menu featuring Hot Sour Soup...  GPT-3.5   \n",
       "19997       41443  Coral reefs are one of the most diverse and im...  GPT-3.5   \n",
       "19998       26481  While it is idealistic to believe that race sh...  GPT-3.5   \n",
       "19999       34455  Public parks play a crucial role in promoting ...  GPT-3.5   \n",
       "\n",
       "       label                                       essays_lower  \\\n",
       "0          0  the 28-year-old was a free agent after leaving...   \n",
       "1          0  relationship: communication between family mem...   \n",
       "2          0  rak bank organization in uae report\\n\\nintrodu...   \n",
       "3          0  good downtown location and open late during wi...   \n",
       "4          0  the issue of the partitioning of india into in...   \n",
       "...      ...                                                ...   \n",
       "19995      1  you never expected your death to be heroic. as...   \n",
       "19996      1  had the prix fixe menu featuring hot sour soup...   \n",
       "19997      1  coral reefs are one of the most diverse and im...   \n",
       "19998      1  while it is idealistic to believe that race sh...   \n",
       "19999      1  public parks play a crucial role in promoting ...   \n",
       "\n",
       "                                           expanded_text  \\\n",
       "0      the 28-year-old was a free agent after leaving...   \n",
       "1      relationship: communication between family mem...   \n",
       "2      rak bank organization in uae report\\n\\nintrodu...   \n",
       "3      good downtown location and open late during wi...   \n",
       "4      the issue of the partitioning of india into in...   \n",
       "...                                                  ...   \n",
       "19995  you never expected your death to be heroic. as...   \n",
       "19996  had the prix fixe menu featuring hot sour soup...   \n",
       "19997  coral reefs are one of the most diverse and im...   \n",
       "19998  while it is idealistic to believe that race sh...   \n",
       "19999  public parks play a crucial role in promoting ...   \n",
       "\n",
       "                                               sentences  \n",
       "0      ['the 28-year-old was a free agent after leavi...  \n",
       "1      ['relationship: communication between family m...  \n",
       "2      ['rak bank organization in uae report\\n\\nintro...  \n",
       "3      ['good downtown location and open late during ...  \n",
       "4      ['the issue of the partitioning of india into ...  \n",
       "...                                                  ...  \n",
       "19995  ['you never expected your death to be heroic',...  \n",
       "19996  ['had the prix fixe menu featuring hot sour so...  \n",
       "19997  ['coral reefs are one of the most diverse and ...  \n",
       "19998  [\"while it is idealistic to believe that race ...  \n",
       "19999  ['public parks play a crucial role in promotin...  \n",
       "\n",
       "[20000 rows x 7 columns]"
      ]
     },
     "execution_count": 3,
     "metadata": {},
     "output_type": "execute_result"
    }
   ],
   "source": [
    "df_train"
   ]
  },
  {
   "cell_type": "raw",
   "metadata": {},
   "source": [
    "df_train=df_train.sample(n=5000, random_state=42)"
   ]
  },
  {
   "cell_type": "code",
   "execution_count": 4,
   "metadata": {},
   "outputs": [
    {
     "name": "stdout",
     "output_type": "stream",
     "text": [
      "Training label counts:\n",
      "label\n",
      "0    10000\n",
      "1    10000\n",
      "Name: count, dtype: int64\n",
      "Validation label counts:\n",
      "label\n",
      "0    500\n",
      "1    500\n",
      "Name: count, dtype: int64\n"
     ]
    }
   ],
   "source": [
    "# Display label counts\n",
    "print(\"Training label counts:\")\n",
    "print(df_train['label'].value_counts())\n",
    "print(\"Validation label counts:\")\n",
    "print(df_val['label'].value_counts())"
   ]
  },
  {
   "cell_type": "code",
   "execution_count": 5,
   "metadata": {},
   "outputs": [],
   "source": [
    "# Extract texts and labels\n",
    "train_texts = df_train['sentences'].tolist()\n",
    "train_labels = df_train['label'].tolist()\n",
    "val_texts = df_val['sentences'].tolist()\n",
    "val_labels = df_val['label'].tolist()\n"
   ]
  },
  {
   "cell_type": "code",
   "execution_count": 6,
   "metadata": {},
   "outputs": [
    {
     "name": "stdout",
     "output_type": "stream",
     "text": [
      "Train texts sample: ['[\\'the 28-year-old was a free agent after leaving blackpool, where he played 10 times last season as the tangerines were promoted to league one\\', \\' the ex-blackburn and preston man made the majority of his career appearances at scunthorpe, featuring 137 times\\', \" nolan has become crewe\\'s fourth signing of the summer\", \" jordan bowery, michael raynes and chris porter have all moved to david artell\\'s side this summer\", \\' find all the latest football transfers on our dedicated page\\', \\'\\']', \"['relationship: communication between family members essay\\\\n\\\\ntable of contents\\\\n 1', ' introduction\\\\n 2', ' relationship\\\\n 3', ' communication\\\\n 4', ' conclusion\\\\n 5', ' works cited\\\\n\\\\nintroduction\\\\n\\\\nrelations and communications with parents and relatives are one of the most important and fundamental phenomena necessary for the development of an individual', ' thus, this process of communication and interaction between several relatives can be characterized from the point of view of the relational theory of society by pierpaolo donati', ' communications with family members within the framework of a pierpaolo donati relational concept will be discussed in this paper', '\\\\n\\\\nrelationship\\\\n\\\\nseveral aspects can characterize the relationship between my family members and me', ' they include emotional closeness, a fairly strong and close bond, cohesion, loyalty in relationships, coordinated behavior, and a high degree of differentiation', ' hence, from donati’s point of view, society cannot function properly without family and family relationships (galatolo)', ' our “bonds” are described as a special and unique organization that binds and holds together people’s primary and fundamental differences', ' undoubtedly, family is one of the essential elements in a society where the individual is considered in their “full measure,” and accordingly, in each family, there are unique and individual ways and methods of interaction', '\\\\n\\\\ncommunication\\\\n\\\\ncommunication between my family and me is based on the following special and unique principles', ' our relationship is based on mutual interaction and cooperation, verbal and nonverbal methods of transmitting information, and dynamic interaction (pace)', ' primarily, the connections between members of my family and me are directly conditioned by everyday and mundane aspects that represent a sequence of individual actions', ' for example, we discuss with parents everyday topics, discuss pressing problems and prospects, and make joint plans for the future', ' within the framework of the donati theory, this relationship, in this case, is at a deeper level and connects family members without them realizing this connection', ' thus, due to such a close connection, we can easily understand the meaning of each spoken word or gesture', '\\\\n\\\\nmoreover, the family is a social institution that mediates between the individual and society at the initial stages of socialization', ' it can be noted that relationships, in principle, are a determining factor in the formation of personality, just like oxygen and food for the human body (donati 19)', ' according to the researcher of family relations, communication between family members, as a rule, is closely intertwined with opportunities for the education of personal and social virtues', ' in this regard, my parents are important and primary sources of transferring valuable and unique practical experience, knowledge, and skills', ' each of us, in turn, shares our impressions and memories and gives valuable advice and recommendations', ' in addition, the type and methods of communication change and transform over time', ' for example, over time, the attitude of my parents towards me manifests itself from “gentler” to “hard” – one of the important bases of relational communication', '\\\\n\\\\nfamily relations, being the primary producer of relational goods, remain a unique resource for the life of society, the only source of human capital', ' according to the author, the condition for this is to build relationships based on genuine love, implying the ethics of gift and reciprocity', ' we give each other sincere care and love; our communication is based on sincerity, reciprocity, and common understanding', ' for that reason, our relationship is strong and happy, and relational communication is built on unique, individual phenomena', '\\\\n\\\\nconclusion\\\\n\\\\nin brief, interaction with family members and the relational aspect of communication from donati’s point of view is one of the important principles of personality and individuality formation', ' communication between my relatives and me is based on unique and inimitable elements', ' our family has its own and individual characteristics that differ from others', ' thus, for example, i can understand and interpret every gesture, look, and word of an adult following the established “rules and standards” in the framework of relational communication', ' in addition, i can intuitively and subconsciously adopt certain actions, deeds, and phrases and demonstrate them in the future', '\\\\n\\\\nworks cited\\\\n\\\\ndonati, pierpaolo', ' “relational versus relationist sociology: a new paradigm in the social sciences', '” stan rzeczy , no', ' 12, pp', ' 15-66, 2017', ' web', '\\\\n\\\\ngalatolo, cecilia', ' “the family, the genome of society', '” family and media, 2017', ' web', '\\\\n\\\\npace, rachael', ' “what is relational communication? principals and theory explained', '” marriage, 2020', ' web', '\\\\n']\"]\n",
      "Val texts sample: ['[\\'the short version is it is a hold-over from the cold war; we were in a long, tense conflict with the soviets, with a great deal of espionage and maneuvering and posturing going on\\', \\' because of this \"communist\" rapidly became \"enemy\" in the eyes of the public, helped in no small part by a combination of propaganda and witch-hunting\\', \\' a man named mccarthy, and others in his style (before and after), made accusations of communistic thinking as a means of political attack as well\\', \\' just to make it clear, the paranoia was vast; artists (often liberal) were black-listed and rendered unable to get work, up and comers had their careers ruined due to distant associations with communist sympathizers, or were made to point the finger at other people (and so on)\\', \\' not a pleasant situation\\', \\' because of that, much of the us rhetoric became centered around our capitalism, and thus today, capitalism is considered good and communism bad\\', \\' socialistic measures and systems are often seen as a lesser form of communism, and get a bad reputation by association\\', \\' if you want a more detailed explanation of why people do not like these sorts of measures, go to rlibertarian and ask nicely - very nicely - and they will give you a run-down on why our schools of thought tend to favor capitalism; the short version is we are largely (though not entirely) under the impression that communism does not work on the large-scale, and socialistic programs essentially take more from those that can produce or earn to give to those who have done nothing to deserve it (or something of that regard), or in a manner which fails to motivate those receiving the aid to change their state\\', \\' be warned, the folks over on that subreddit may be slightly zealous owing to the average redditor being left-leaning; libertarians are rights-liberal (pro gay marriage, pro personal freedom, etc\\', \\') but fiscally conservative (prefer smaller government, less involvement, lower spending, lower taxes, etc\\', \\') - they have a reputation as being right-wing\\', \\' i think that will do for a short version\\', \\'\\']', \"['stayed here for my last night in vegas', ' the hotelcasino, although nice, overall had a cheesy feel to it', ' a lot of gold and lions', ' that said, we stayed in a recently remodeled room that had a chic, european flair to it that we just loved', ' there was a tv in our bathroom mirror! front desk was very friendly and helpful', ' definitely a good option when in vegas', ' i noticed more families here than at other hotels', '']\"]\n"
     ]
    }
   ],
   "source": [
    "\n",
    "# Preview data\n",
    "print(\"Train texts sample:\", train_texts[:2])\n",
    "print(\"Val texts sample:\", val_texts[:2])\n"
   ]
  },
  {
   "cell_type": "code",
   "execution_count": 7,
   "metadata": {},
   "outputs": [
    {
     "name": "stdout",
     "output_type": "stream",
     "text": [
      "cuda\n"
     ]
    }
   ],
   "source": [
    "from transformers import GPT2Tokenizer, GPT2ForSequenceClassification, TrainingArguments, Trainer\n",
    "device = torch.device(\"cuda\" if torch.cuda.is_available() else \"CPU\")\n",
    "print(device)"
   ]
  },
  {
   "cell_type": "code",
   "execution_count": 8,
   "metadata": {},
   "outputs": [
    {
     "name": "stderr",
     "output_type": "stream",
     "text": [
      "Some weights of GPT2ForSequenceClassification were not initialized from the model checkpoint at gpt2 and are newly initialized: ['score.weight']\n",
      "You should probably TRAIN this model on a down-stream task to be able to use it for predictions and inference.\n"
     ]
    }
   ],
   "source": [
    "tokenizer = GPT2Tokenizer.from_pretrained('gpt2')\n",
    "if tokenizer.pad_token is None:\n",
    "    tokenizer.pad_token = tokenizer.eos_token  # Set pad_token if not already defined\n",
    "\n",
    "model = GPT2ForSequenceClassification.from_pretrained('gpt2', num_labels=2)\n",
    "model.config.pad_token_id = tokenizer.pad_token_id\n"
   ]
  },
  {
   "cell_type": "code",
   "execution_count": 9,
   "metadata": {},
   "outputs": [
    {
     "name": "stdout",
     "output_type": "stream",
     "text": [
      "transformer.wte.weight: trainable=False\n",
      "transformer.wpe.weight: trainable=False\n",
      "transformer.h.0.ln_1.weight: trainable=False\n",
      "transformer.h.0.ln_1.bias: trainable=False\n",
      "transformer.h.0.attn.c_attn.weight: trainable=False\n",
      "transformer.h.0.attn.c_attn.bias: trainable=False\n",
      "transformer.h.0.attn.c_proj.weight: trainable=False\n",
      "transformer.h.0.attn.c_proj.bias: trainable=False\n",
      "transformer.h.0.ln_2.weight: trainable=False\n",
      "transformer.h.0.ln_2.bias: trainable=False\n",
      "transformer.h.0.mlp.c_fc.weight: trainable=False\n",
      "transformer.h.0.mlp.c_fc.bias: trainable=False\n",
      "transformer.h.0.mlp.c_proj.weight: trainable=False\n",
      "transformer.h.0.mlp.c_proj.bias: trainable=False\n",
      "transformer.h.1.ln_1.weight: trainable=False\n",
      "transformer.h.1.ln_1.bias: trainable=False\n",
      "transformer.h.1.attn.c_attn.weight: trainable=False\n",
      "transformer.h.1.attn.c_attn.bias: trainable=False\n",
      "transformer.h.1.attn.c_proj.weight: trainable=False\n",
      "transformer.h.1.attn.c_proj.bias: trainable=False\n",
      "transformer.h.1.ln_2.weight: trainable=False\n",
      "transformer.h.1.ln_2.bias: trainable=False\n",
      "transformer.h.1.mlp.c_fc.weight: trainable=False\n",
      "transformer.h.1.mlp.c_fc.bias: trainable=False\n",
      "transformer.h.1.mlp.c_proj.weight: trainable=False\n",
      "transformer.h.1.mlp.c_proj.bias: trainable=False\n",
      "transformer.h.2.ln_1.weight: trainable=False\n",
      "transformer.h.2.ln_1.bias: trainable=False\n",
      "transformer.h.2.attn.c_attn.weight: trainable=False\n",
      "transformer.h.2.attn.c_attn.bias: trainable=False\n",
      "transformer.h.2.attn.c_proj.weight: trainable=False\n",
      "transformer.h.2.attn.c_proj.bias: trainable=False\n",
      "transformer.h.2.ln_2.weight: trainable=False\n",
      "transformer.h.2.ln_2.bias: trainable=False\n",
      "transformer.h.2.mlp.c_fc.weight: trainable=False\n",
      "transformer.h.2.mlp.c_fc.bias: trainable=False\n",
      "transformer.h.2.mlp.c_proj.weight: trainable=False\n",
      "transformer.h.2.mlp.c_proj.bias: trainable=False\n",
      "transformer.h.3.ln_1.weight: trainable=False\n",
      "transformer.h.3.ln_1.bias: trainable=False\n",
      "transformer.h.3.attn.c_attn.weight: trainable=False\n",
      "transformer.h.3.attn.c_attn.bias: trainable=False\n",
      "transformer.h.3.attn.c_proj.weight: trainable=False\n",
      "transformer.h.3.attn.c_proj.bias: trainable=False\n",
      "transformer.h.3.ln_2.weight: trainable=False\n",
      "transformer.h.3.ln_2.bias: trainable=False\n",
      "transformer.h.3.mlp.c_fc.weight: trainable=False\n",
      "transformer.h.3.mlp.c_fc.bias: trainable=False\n",
      "transformer.h.3.mlp.c_proj.weight: trainable=False\n",
      "transformer.h.3.mlp.c_proj.bias: trainable=False\n",
      "transformer.h.4.ln_1.weight: trainable=False\n",
      "transformer.h.4.ln_1.bias: trainable=False\n",
      "transformer.h.4.attn.c_attn.weight: trainable=False\n",
      "transformer.h.4.attn.c_attn.bias: trainable=False\n",
      "transformer.h.4.attn.c_proj.weight: trainable=False\n",
      "transformer.h.4.attn.c_proj.bias: trainable=False\n",
      "transformer.h.4.ln_2.weight: trainable=False\n",
      "transformer.h.4.ln_2.bias: trainable=False\n",
      "transformer.h.4.mlp.c_fc.weight: trainable=False\n",
      "transformer.h.4.mlp.c_fc.bias: trainable=False\n",
      "transformer.h.4.mlp.c_proj.weight: trainable=False\n",
      "transformer.h.4.mlp.c_proj.bias: trainable=False\n",
      "transformer.h.5.ln_1.weight: trainable=False\n",
      "transformer.h.5.ln_1.bias: trainable=False\n",
      "transformer.h.5.attn.c_attn.weight: trainable=False\n",
      "transformer.h.5.attn.c_attn.bias: trainable=False\n",
      "transformer.h.5.attn.c_proj.weight: trainable=False\n",
      "transformer.h.5.attn.c_proj.bias: trainable=False\n",
      "transformer.h.5.ln_2.weight: trainable=False\n",
      "transformer.h.5.ln_2.bias: trainable=False\n",
      "transformer.h.5.mlp.c_fc.weight: trainable=False\n",
      "transformer.h.5.mlp.c_fc.bias: trainable=False\n",
      "transformer.h.5.mlp.c_proj.weight: trainable=False\n",
      "transformer.h.5.mlp.c_proj.bias: trainable=False\n",
      "transformer.h.6.ln_1.weight: trainable=False\n",
      "transformer.h.6.ln_1.bias: trainable=False\n",
      "transformer.h.6.attn.c_attn.weight: trainable=False\n",
      "transformer.h.6.attn.c_attn.bias: trainable=False\n",
      "transformer.h.6.attn.c_proj.weight: trainable=False\n",
      "transformer.h.6.attn.c_proj.bias: trainable=False\n",
      "transformer.h.6.ln_2.weight: trainable=False\n",
      "transformer.h.6.ln_2.bias: trainable=False\n",
      "transformer.h.6.mlp.c_fc.weight: trainable=False\n",
      "transformer.h.6.mlp.c_fc.bias: trainable=False\n",
      "transformer.h.6.mlp.c_proj.weight: trainable=False\n",
      "transformer.h.6.mlp.c_proj.bias: trainable=False\n",
      "transformer.h.7.ln_1.weight: trainable=False\n",
      "transformer.h.7.ln_1.bias: trainable=False\n",
      "transformer.h.7.attn.c_attn.weight: trainable=False\n",
      "transformer.h.7.attn.c_attn.bias: trainable=False\n",
      "transformer.h.7.attn.c_proj.weight: trainable=False\n",
      "transformer.h.7.attn.c_proj.bias: trainable=False\n",
      "transformer.h.7.ln_2.weight: trainable=False\n",
      "transformer.h.7.ln_2.bias: trainable=False\n",
      "transformer.h.7.mlp.c_fc.weight: trainable=False\n",
      "transformer.h.7.mlp.c_fc.bias: trainable=False\n",
      "transformer.h.7.mlp.c_proj.weight: trainable=False\n",
      "transformer.h.7.mlp.c_proj.bias: trainable=False\n",
      "transformer.h.8.ln_1.weight: trainable=False\n",
      "transformer.h.8.ln_1.bias: trainable=False\n",
      "transformer.h.8.attn.c_attn.weight: trainable=False\n",
      "transformer.h.8.attn.c_attn.bias: trainable=False\n",
      "transformer.h.8.attn.c_proj.weight: trainable=False\n",
      "transformer.h.8.attn.c_proj.bias: trainable=False\n",
      "transformer.h.8.ln_2.weight: trainable=False\n",
      "transformer.h.8.ln_2.bias: trainable=False\n",
      "transformer.h.8.mlp.c_fc.weight: trainable=False\n",
      "transformer.h.8.mlp.c_fc.bias: trainable=False\n",
      "transformer.h.8.mlp.c_proj.weight: trainable=False\n",
      "transformer.h.8.mlp.c_proj.bias: trainable=False\n",
      "transformer.h.9.ln_1.weight: trainable=False\n",
      "transformer.h.9.ln_1.bias: trainable=False\n",
      "transformer.h.9.attn.c_attn.weight: trainable=False\n",
      "transformer.h.9.attn.c_attn.bias: trainable=False\n",
      "transformer.h.9.attn.c_proj.weight: trainable=False\n",
      "transformer.h.9.attn.c_proj.bias: trainable=False\n",
      "transformer.h.9.ln_2.weight: trainable=False\n",
      "transformer.h.9.ln_2.bias: trainable=False\n",
      "transformer.h.9.mlp.c_fc.weight: trainable=False\n",
      "transformer.h.9.mlp.c_fc.bias: trainable=False\n",
      "transformer.h.9.mlp.c_proj.weight: trainable=False\n",
      "transformer.h.9.mlp.c_proj.bias: trainable=False\n",
      "transformer.h.10.ln_1.weight: trainable=False\n",
      "transformer.h.10.ln_1.bias: trainable=False\n",
      "transformer.h.10.attn.c_attn.weight: trainable=False\n",
      "transformer.h.10.attn.c_attn.bias: trainable=False\n",
      "transformer.h.10.attn.c_proj.weight: trainable=False\n",
      "transformer.h.10.attn.c_proj.bias: trainable=False\n",
      "transformer.h.10.ln_2.weight: trainable=False\n",
      "transformer.h.10.ln_2.bias: trainable=False\n",
      "transformer.h.10.mlp.c_fc.weight: trainable=False\n",
      "transformer.h.10.mlp.c_fc.bias: trainable=False\n",
      "transformer.h.10.mlp.c_proj.weight: trainable=False\n",
      "transformer.h.10.mlp.c_proj.bias: trainable=False\n",
      "transformer.h.11.ln_1.weight: trainable=True\n",
      "transformer.h.11.ln_1.bias: trainable=True\n",
      "transformer.h.11.attn.c_attn.weight: trainable=True\n",
      "transformer.h.11.attn.c_attn.bias: trainable=True\n",
      "transformer.h.11.attn.c_proj.weight: trainable=True\n",
      "transformer.h.11.attn.c_proj.bias: trainable=True\n",
      "transformer.h.11.ln_2.weight: trainable=True\n",
      "transformer.h.11.ln_2.bias: trainable=True\n",
      "transformer.h.11.mlp.c_fc.weight: trainable=True\n",
      "transformer.h.11.mlp.c_fc.bias: trainable=True\n",
      "transformer.h.11.mlp.c_proj.weight: trainable=True\n",
      "transformer.h.11.mlp.c_proj.bias: trainable=True\n",
      "transformer.ln_f.weight: trainable=True\n",
      "transformer.ln_f.bias: trainable=True\n",
      "score.weight: trainable=True\n"
     ]
    }
   ],
   "source": [
    "# Freeze all parameters first\n",
    "for param in model.parameters():\n",
    "    param.requires_grad = False\n",
    "\n",
    "# Unfreeze the last few transformer blocks and the classification head\n",
    "unfreeze_layers = [ 'h.11', 'ln_f', 'score']\n",
    "for name, param in model.named_parameters():\n",
    "    if any(layer in name for layer in unfreeze_layers):\n",
    "        param.requires_grad = True\n",
    "\n",
    "# Check which parameters are trainable now\n",
    "for name, param in model.named_parameters():\n",
    "    print(f\"{name}: trainable={param.requires_grad}\")"
   ]
  },
  {
   "cell_type": "code",
   "execution_count": 10,
   "metadata": {},
   "outputs": [],
   "source": [
    "class GPT2Dataset(Dataset):\n",
    "    def __init__(self, encodings, labels):\n",
    "        self.encodings = encodings\n",
    "        self.labels = labels\n",
    "\n",
    "    def __getitem__(self, idx):\n",
    "        item = {key: self.encodings[key][idx] for key in self.encodings}\n",
    "        item['labels'] = torch.tensor(self.labels[idx], dtype=torch.long)\n",
    "        return item\n",
    "\n",
    "    def __len__(self):\n",
    "        return len(self.labels)\n",
    "\n",
    "# Tokenization\n",
    "def tokenize_data(texts, labels):\n",
    "    encodings = tokenizer(texts, truncation=True, padding=\"max_length\", max_length=512, return_tensors=\"pt\")\n",
    "    return GPT2Dataset(encodings, labels)\n",
    "\n",
    "train_dataset = tokenize_data(train_texts, train_labels)\n",
    "val_dataset = tokenize_data(val_texts, val_labels)\n"
   ]
  },
  {
   "cell_type": "code",
   "execution_count": 11,
   "metadata": {},
   "outputs": [
    {
     "data": {
      "text/plain": [
       "GPT2ForSequenceClassification(\n",
       "  (transformer): GPT2Model(\n",
       "    (wte): Embedding(50257, 768)\n",
       "    (wpe): Embedding(1024, 768)\n",
       "    (drop): Dropout(p=0.1, inplace=False)\n",
       "    (h): ModuleList(\n",
       "      (0-11): 12 x GPT2Block(\n",
       "        (ln_1): LayerNorm((768,), eps=1e-05, elementwise_affine=True)\n",
       "        (attn): GPT2Attention(\n",
       "          (c_attn): Conv1D()\n",
       "          (c_proj): Conv1D()\n",
       "          (attn_dropout): Dropout(p=0.1, inplace=False)\n",
       "          (resid_dropout): Dropout(p=0.1, inplace=False)\n",
       "        )\n",
       "        (ln_2): LayerNorm((768,), eps=1e-05, elementwise_affine=True)\n",
       "        (mlp): GPT2MLP(\n",
       "          (c_fc): Conv1D()\n",
       "          (c_proj): Conv1D()\n",
       "          (act): NewGELUActivation()\n",
       "          (dropout): Dropout(p=0.1, inplace=False)\n",
       "        )\n",
       "      )\n",
       "    )\n",
       "    (ln_f): LayerNorm((768,), eps=1e-05, elementwise_affine=True)\n",
       "  )\n",
       "  (score): Linear(in_features=768, out_features=2, bias=False)\n",
       ")"
      ]
     },
     "execution_count": 11,
     "metadata": {},
     "output_type": "execute_result"
    }
   ],
   "source": [
    "model.to(device)"
   ]
  },
  {
   "cell_type": "code",
   "execution_count": 22,
   "metadata": {},
   "outputs": [],
   "source": [
    "# Define the training arguments\n",
    "training_args = TrainingArguments(\n",
    "    output_dir='./results_finetune_GPT2_Venkat_new',\n",
    "    num_train_epochs=5,\n",
    "    per_device_train_batch_size=40,\n",
    "    per_device_eval_batch_size=16,\n",
    "    warmup_steps=500,\n",
    "    weight_decay=0.01,\n",
    "    logging_dir='./logs_finetune_new',\n",
    "    logging_steps=50,\n",
    "    evaluation_strategy=\"epoch\",\n",
    "    save_strategy=\"epoch\",\n",
    "    load_best_model_at_end=True,\n",
    "    metric_for_best_model='accuracy'\n",
    ")\n",
    "\n"
   ]
  },
  {
   "cell_type": "code",
   "execution_count": 23,
   "metadata": {},
   "outputs": [],
   "source": [
    "# Custom compute_metrics function for accuracy\n",
    "def compute_metrics(p):\n",
    "    predictions, labels = p\n",
    "    predictions = np.argmax(predictions, axis=1)\n",
    "    return {'accuracy': accuracy_score(labels, predictions)}\n",
    "\n",
    "# Initialize the Trainer\n",
    "trainer = Trainer(\n",
    "    model=model,\n",
    "    args=training_args,\n",
    "    train_dataset=train_dataset,\n",
    "    eval_dataset=val_dataset,\n",
    "    compute_metrics=compute_metrics\n",
    ")\n"
   ]
  },
  {
   "cell_type": "code",
   "execution_count": 24,
   "metadata": {},
   "outputs": [
    {
     "data": {
      "text/html": [
       "\n",
       "    <div>\n",
       "      \n",
       "      <progress value='2500' max='2500' style='width:300px; height:20px; vertical-align: middle;'></progress>\n",
       "      [2500/2500 45:25, Epoch 5/5]\n",
       "    </div>\n",
       "    <table border=\"1\" class=\"dataframe\">\n",
       "  <thead>\n",
       " <tr style=\"text-align: left;\">\n",
       "      <th>Epoch</th>\n",
       "      <th>Training Loss</th>\n",
       "      <th>Validation Loss</th>\n",
       "      <th>Accuracy</th>\n",
       "    </tr>\n",
       "  </thead>\n",
       "  <tbody>\n",
       "    <tr>\n",
       "      <td>1</td>\n",
       "      <td>0.108600</td>\n",
       "      <td>0.187405</td>\n",
       "      <td>0.925000</td>\n",
       "    </tr>\n",
       "    <tr>\n",
       "      <td>2</td>\n",
       "      <td>0.104900</td>\n",
       "      <td>0.084458</td>\n",
       "      <td>0.965000</td>\n",
       "    </tr>\n",
       "    <tr>\n",
       "      <td>3</td>\n",
       "      <td>0.083500</td>\n",
       "      <td>0.110475</td>\n",
       "      <td>0.958000</td>\n",
       "    </tr>\n",
       "    <tr>\n",
       "      <td>4</td>\n",
       "      <td>0.056500</td>\n",
       "      <td>0.115717</td>\n",
       "      <td>0.957000</td>\n",
       "    </tr>\n",
       "    <tr>\n",
       "      <td>5</td>\n",
       "      <td>0.047100</td>\n",
       "      <td>0.114353</td>\n",
       "      <td>0.958000</td>\n",
       "    </tr>\n",
       "  </tbody>\n",
       "</table><p>"
      ],
      "text/plain": [
       "<IPython.core.display.HTML object>"
      ]
     },
     "metadata": {},
     "output_type": "display_data"
    },
    {
     "data": {
      "text/plain": [
       "TrainOutput(global_step=2500, training_loss=0.08652847146987915, metrics={'train_runtime': 2726.6775, 'train_samples_per_second': 36.675, 'train_steps_per_second': 0.917, 'total_flos': 2.61296750592e+16, 'train_loss': 0.08652847146987915, 'epoch': 5.0})"
      ]
     },
     "execution_count": 24,
     "metadata": {},
     "output_type": "execute_result"
    }
   ],
   "source": [
    "# Train the model\n",
    "trainer.train()\n",
    "\n",
    "\n"
   ]
  },
  {
   "cell_type": "code",
   "execution_count": 27,
   "metadata": {},
   "outputs": [
    {
     "data": {
      "text/plain": [
       "('./saved_model_GPT2_Venkat_final\\\\tokenizer_config.json',\n",
       " './saved_model_GPT2_Venkat_final\\\\special_tokens_map.json',\n",
       " './saved_model_GPT2_Venkat_final\\\\vocab.json',\n",
       " './saved_model_GPT2_Venkat_final\\\\merges.txt',\n",
       " './saved_model_GPT2_Venkat_final\\\\added_tokens.json')"
      ]
     },
     "execution_count": 27,
     "metadata": {},
     "output_type": "execute_result"
    }
   ],
   "source": [
    "# Save the best model, tokenizer, and configuration\n",
    "model_path = \"./saved_model_GPT2_Venkat_final\"\n",
    "model.save_pretrained(model_path)\n",
    "tokenizer.save_pretrained(model_path)"
   ]
  },
  {
   "cell_type": "code",
   "execution_count": 25,
   "metadata": {},
   "outputs": [],
   "source": [
    "import seaborn as sns"
   ]
  },
  {
   "cell_type": "code",
   "execution_count": 26,
   "metadata": {},
   "outputs": [
    {
     "data": {
      "text/html": [],
      "text/plain": [
       "<IPython.core.display.HTML object>"
      ]
     },
     "metadata": {},
     "output_type": "display_data"
    },
    {
     "name": "stdout",
     "output_type": "stream",
     "text": [
      "Validation Accuracy: 0.9650\n",
      "Validation Loss: 0.0845\n"
     ]
    },
    {
     "data": {
      "image/png": "[encoded data removed]",
      "text/plain": [
       "<Figure size 640x480 with 1 Axes>"
      ]
     },
     "metadata": {},
     "output_type": "display_data"
    },
    {
     "data": {
      "image/png": "[encoded data removed]",
      "text/plain": [
       "<Figure size 640x480 with 2 Axes>"
      ]
     },
     "metadata": {},
     "output_type": "display_data"
    }
   ],
   "source": [
    "# Evaluation using Trainer's built-in function which uses the best model saved\n",
    "results = trainer.evaluate()\n",
    "\n",
    "# Display validation results\n",
    "print(f\"Validation Accuracy: {results['eval_accuracy']:.4f}\")\n",
    "print(f\"Validation Loss: {results['eval_loss']:.4f}\")\n",
    "\n",
    "# Predictions for ROC AUC and confusion matrix\n",
    "predictions, labels, _ = trainer.predict(val_dataset)\n",
    "predicted_labels = np.argmax(predictions, axis=1)\n",
    "\n",
    "# ROC Curve and AUC\n",
    "fpr, tpr, _ = roc_curve(labels, predictions[:, 1])  # Assuming positive class at index 1\n",
    "roc_auc = auc(fpr, tpr)\n",
    "plt.figure()\n",
    "plt.plot(fpr, tpr, color='darkorange', lw=2, label=f'ROC curve (area = {roc_auc:.2f})')\n",
    "plt.plot([0, 1], [0, 1], color='navy', lw=2, linestyle='--')\n",
    "plt.xlabel('False Positive Rate')\n",
    "plt.ylabel('True Positive Rate')\n",
    "plt.title('Receiver Operating Characteristic')\n",
    "plt.legend(loc=\"lower right\")\n",
    "plt.show()\n",
    "\n",
    "# Confusion Matrix\n",
    "conf_matrix = confusion_matrix(labels, predicted_labels)\n",
    "sns.heatmap(conf_matrix, annot=True, fmt=\"d\", cmap='Blues', xticklabels=['Class 0', 'Class 1'], yticklabels=['Class 0', 'Class 1'])\n",
    "plt.xlabel('Predicted Labels')\n",
    "plt.ylabel('True Labels')\n",
    "plt.title('Confusion Matrix')\n",
    "plt.show()\n"
   ]
  },
  {
   "cell_type": "code",
   "execution_count": null,
   "metadata": {},
   "outputs": [],
   "source": []
  }
 ],
 "metadata": {
  "kernelspec": {
   "display_name": "Python 3 (ipykernel)",
   "language": "python",
   "name": "python3"
  },
  "language_info": {
   "codemirror_mode": {
    "name": "ipython",
    "version": 3
   },
   "file_extension": ".py",
   "mimetype": "text/x-python",
   "name": "python",
   "nbconvert_exporter": "python",
   "pygments_lexer": "ipython3",
   "version": "3.9.19"
  }
 },
 "nbformat": 4,
 "nbformat_minor": 4
}
