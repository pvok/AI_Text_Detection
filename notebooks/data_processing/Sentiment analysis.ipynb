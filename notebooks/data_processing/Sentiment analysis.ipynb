{
 "cells": [
  {
   "cell_type": "code",
   "execution_count": 1,
   "metadata": {},
   "outputs": [],
   "source": [
    "import pandas as pd\n",
    "import numpy as np\n",
    "import nltk\n",
    "import contractions\n",
    "import matplotlib.pyplot as plt\n",
    "\n",
    "from string import punctuation\n",
    "from collections import Counter\n",
    "import seaborn as sns"
   ]
  },
  {
   "cell_type": "code",
   "execution_count": 2,
   "metadata": {},
   "outputs": [],
   "source": [
    "import transformers"
   ]
  },
  {
   "cell_type": "code",
   "execution_count": 3,
   "metadata": {},
   "outputs": [],
   "source": [
    "directory = r\"C:\\Users\\sagar\\OneDrive\\Desktop\\Sem 3\\Deep Learning\\Project Final\\Data\"\n"
   ]
  },
  {
   "cell_type": "code",
   "execution_count": 4,
   "metadata": {},
   "outputs": [],
   "source": [
    "\n",
    "df_train = pd.read_csv(directory +\"\\LLM_vs_human_train_50k.csv\")"
   ]
  },
  {
   "cell_type": "code",
   "execution_count": 5,
   "metadata": {},
   "outputs": [],
   "source": [
    "df_val = pd.read_csv(directory +\"\\LLM_vs_human_val_1k.csv\")"
   ]
  },
  {
   "cell_type": "code",
   "execution_count": 6,
   "metadata": {},
   "outputs": [],
   "source": [
    "df_test = pd.read_csv(directory +\"\\LLM_vs_human_test_1k.csv\")"
   ]
  },
  {
   "cell_type": "code",
   "execution_count": 7,
   "metadata": {},
   "outputs": [],
   "source": [
    "df_combined=pd.concat([df_train,df_val,df_test],ignore_index=True)"
   ]
  },
  {
   "cell_type": "code",
   "execution_count": 8,
   "metadata": {},
   "outputs": [
    {
     "data": {
      "text/html": [
       "<div>\n",
       "<style scoped>\n",
       "    .dataframe tbody tr th:only-of-type {\n",
       "        vertical-align: middle;\n",
       "    }\n",
       "\n",
       "    .dataframe tbody tr th {\n",
       "        vertical-align: top;\n",
       "    }\n",
       "\n",
       "    .dataframe thead th {\n",
       "        text-align: right;\n",
       "    }\n",
       "</style>\n",
       "<table border=\"1\" class=\"dataframe\">\n",
       "  <thead>\n",
       "    <tr style=\"text-align: right;\">\n",
       "      <th></th>\n",
       "      <th>Unnamed: 0</th>\n",
       "      <th>text</th>\n",
       "      <th>source</th>\n",
       "      <th>label</th>\n",
       "    </tr>\n",
       "  </thead>\n",
       "  <tbody>\n",
       "    <tr>\n",
       "      <th>0</th>\n",
       "      <td>0</td>\n",
       "      <td>I'm not happy with what I've wrote to be hones...</td>\n",
       "      <td>Human</td>\n",
       "      <td>0</td>\n",
       "    </tr>\n",
       "    <tr>\n",
       "      <th>1</th>\n",
       "      <td>1</td>\n",
       "      <td>Postmodernist Anthropology and its Impact on T...</td>\n",
       "      <td>Human</td>\n",
       "      <td>0</td>\n",
       "    </tr>\n",
       "    <tr>\n",
       "      <th>2</th>\n",
       "      <td>2</td>\n",
       "      <td>Firstly, is it okay to write an essay or does ...</td>\n",
       "      <td>Human</td>\n",
       "      <td>0</td>\n",
       "    </tr>\n",
       "    <tr>\n",
       "      <th>3</th>\n",
       "      <td>3</td>\n",
       "      <td>Nissan Company’s Operational Changes and Manag...</td>\n",
       "      <td>Human</td>\n",
       "      <td>0</td>\n",
       "    </tr>\n",
       "    <tr>\n",
       "      <th>4</th>\n",
       "      <td>4</td>\n",
       "      <td>I think some people might find visiting a nati...</td>\n",
       "      <td>Human</td>\n",
       "      <td>0</td>\n",
       "    </tr>\n",
       "    <tr>\n",
       "      <th>...</th>\n",
       "      <td>...</td>\n",
       "      <td>...</td>\n",
       "      <td>...</td>\n",
       "      <td>...</td>\n",
       "    </tr>\n",
       "    <tr>\n",
       "      <th>51995</th>\n",
       "      <td>995</td>\n",
       "      <td>The cybersecurity community is abuzz with the ...</td>\n",
       "      <td>GPT-3.5</td>\n",
       "      <td>1</td>\n",
       "    </tr>\n",
       "    <tr>\n",
       "      <th>51996</th>\n",
       "      <td>996</td>\n",
       "      <td>As a language model AI, I cannot agree or disa...</td>\n",
       "      <td>GPT-3.5</td>\n",
       "      <td>1</td>\n",
       "    </tr>\n",
       "    <tr>\n",
       "      <th>51997</th>\n",
       "      <td>997</td>\n",
       "      <td>The night was falling on the western hemispher...</td>\n",
       "      <td>GPT-3.5</td>\n",
       "      <td>1</td>\n",
       "    </tr>\n",
       "    <tr>\n",
       "      <th>51998</th>\n",
       "      <td>998</td>\n",
       "      <td>The Pirate Bay (TPB) has been able to continue...</td>\n",
       "      <td>GPT-3.5</td>\n",
       "      <td>1</td>\n",
       "    </tr>\n",
       "    <tr>\n",
       "      <th>51999</th>\n",
       "      <td>999</td>\n",
       "      <td>Education plays a crucial role in promoting en...</td>\n",
       "      <td>GPT-3.5</td>\n",
       "      <td>1</td>\n",
       "    </tr>\n",
       "  </tbody>\n",
       "</table>\n",
       "<p>52000 rows × 4 columns</p>\n",
       "</div>"
      ],
      "text/plain": [
       "       Unnamed: 0                                               text   source  \\\n",
       "0               0  I'm not happy with what I've wrote to be hones...    Human   \n",
       "1               1  Postmodernist Anthropology and its Impact on T...    Human   \n",
       "2               2  Firstly, is it okay to write an essay or does ...    Human   \n",
       "3               3  Nissan Company’s Operational Changes and Manag...    Human   \n",
       "4               4  I think some people might find visiting a nati...    Human   \n",
       "...           ...                                                ...      ...   \n",
       "51995         995  The cybersecurity community is abuzz with the ...  GPT-3.5   \n",
       "51996         996  As a language model AI, I cannot agree or disa...  GPT-3.5   \n",
       "51997         997  The night was falling on the western hemispher...  GPT-3.5   \n",
       "51998         998  The Pirate Bay (TPB) has been able to continue...  GPT-3.5   \n",
       "51999         999  Education plays a crucial role in promoting en...  GPT-3.5   \n",
       "\n",
       "       label  \n",
       "0          0  \n",
       "1          0  \n",
       "2          0  \n",
       "3          0  \n",
       "4          0  \n",
       "...      ...  \n",
       "51995      1  \n",
       "51996      1  \n",
       "51997      1  \n",
       "51998      1  \n",
       "51999      1  \n",
       "\n",
       "[52000 rows x 4 columns]"
      ]
     },
     "execution_count": 8,
     "metadata": {},
     "output_type": "execute_result"
    }
   ],
   "source": [
    "df_combined"
   ]
  },
  {
   "cell_type": "code",
   "execution_count": 9,
   "metadata": {},
   "outputs": [
    {
     "name": "stdout",
     "output_type": "stream",
     "text": [
      "cuda\n"
     ]
    }
   ],
   "source": [
    "# !pip install tf-keras\n",
    "import torch\n",
    "from tqdm import tqdm\n",
    "device = torch.device(\"cuda\" if torch.cuda.is_available() else \"cpu\")\n",
    "print(device)\n"
   ]
  },
  {
   "cell_type": "code",
   "execution_count": 10,
   "metadata": {},
   "outputs": [],
   "source": [
    "from transformers import pipeline\n",
    "\n",
    "# Initialize the sentiment analysis pipeline with the RoBERTa model\n",
    "sentiment_pipeline = pipeline(\"sentiment-analysis\", model=\"cardiffnlp/twitter-roberta-base-sentiment\",device=0)\n",
    "def predict_sentiment(text):\n",
    "    results = sentiment_pipeline(text, truncation=True, max_length=512)\n",
    "\n",
    "    # Initialize lists to hold sentiment labels and scores\n",
    "    sentiments = []\n",
    "    scores = []\n",
    "\n",
    "    for result in results:\n",
    "        # Map model-specific labels to standard sentiment labels\n",
    "        label_map = {'LABEL_0': 'NEGATIVE', 'LABEL_1': 'POSITIVE', 'LABEL_2': 'NEUTRAL'}\n",
    "        sentiment = label_map[result['label']]\n",
    "        score = result['score']\n",
    "\n",
    "        sentiments.append(sentiment)\n",
    "        scores.append(score)\n",
    "\n",
    "    # Aggregate the results for overall sentiment\n",
    "    if sentiments:\n",
    "        overall_sentiment = max(set(sentiments), key=sentiments.count)\n",
    "    else:\n",
    "        overall_sentiment = 'NEUTRAL'\n",
    "    avg_score = sum(scores) / len(scores) if scores else 0.5\n",
    "\n",
    "    return overall_sentiment, avg_score\n",
    "\n",
    "\n"
   ]
  },
  {
   "cell_type": "raw",
   "metadata": {},
   "source": [
    "# Apply the sentiment prediction function to the 'expanded_text' column\n",
    "try:\n",
    "    results = df_combined['text'].apply(predict_sentiment)\n",
    "    df_combined['overall_sentiment'], df_combined['average_sentiment_score'] = zip(*results)\n",
    "except Exception as e:\n",
    "    print(f\"An error occurred: {e}\")"
   ]
  },
  {
   "cell_type": "raw",
   "metadata": {},
   "source": [
    "import multiprocessing\n",
    "def apply_sentiment_parallel(text):\n",
    "    return predict_sentiment(text)\n",
    "\n",
    "# Define the number of processes to use (can be adjusted based on your system's capacity)\n",
    "num_processes = multiprocessing.cpu_count()  # Use all available CPU cores\n",
    "\n",
    "# Apply sentiment prediction function to the 'text' column in parallel\n",
    "try:\n",
    "    with multiprocessing.Pool(processes=num_processes) as pool:\n",
    "        results = list(tqdm(pool.imap(apply_sentiment_parallel, df_combined['text']), total=len(df_combined), desc=\"Processing\"))\n",
    "    \n",
    "    # Unzip the results\n",
    "    overall_sentiments, avg_scores = zip(*results)\n",
    "    \n",
    "    # Assign the results to DataFrame columns\n",
    "    df_combined['overall_sentiment'] = overall_sentiments\n",
    "    df_combined['average_sentiment_score'] = avg_scores\n",
    "except Exception as e:\n",
    "    print(f\"An error occurred: {e}\")"
   ]
  },
  {
   "cell_type": "code",
   "execution_count": null,
   "metadata": {},
   "outputs": [
    {
     "name": "stderr",
     "output_type": "stream",
     "text": [
      "Processing:  94%|████████████████████████████████████████████████████████████▏   | 48897/52000 [08:56<00:35, 88.63it/s]"
     ]
    }
   ],
   "source": [
    "import concurrent.futures\n",
    "\n",
    "def apply_sentiment_parallel(text):\n",
    "    return predict_sentiment(text)\n",
    "\n",
    "try:\n",
    "    with concurrent.futures.ThreadPoolExecutor() as executor:\n",
    "        results = list(tqdm(executor.map(apply_sentiment_parallel, df_combined['text']), total=len(df_combined), desc=\"Processing\"))\n",
    "    \n",
    "    # Unzip the results\n",
    "    overall_sentiments, avg_scores = zip(*results)\n",
    "    \n",
    "    # Assign the results to DataFrame columns\n",
    "    df_combined['overall_sentiment'] = overall_sentiments\n",
    "    df_combined['average_sentiment_score'] = avg_scores\n",
    "except Exception as e:\n",
    "    print(f\"An error occurred: {e}\")"
   ]
  },
  {
   "cell_type": "code",
   "execution_count": 13,
   "metadata": {},
   "outputs": [
    {
     "data": {
      "text/html": [
       "<div>\n",
       "<style scoped>\n",
       "    .dataframe tbody tr th:only-of-type {\n",
       "        vertical-align: middle;\n",
       "    }\n",
       "\n",
       "    .dataframe tbody tr th {\n",
       "        vertical-align: top;\n",
       "    }\n",
       "\n",
       "    .dataframe thead th {\n",
       "        text-align: right;\n",
       "    }\n",
       "</style>\n",
       "<table border=\"1\" class=\"dataframe\">\n",
       "  <thead>\n",
       "    <tr style=\"text-align: right;\">\n",
       "      <th></th>\n",
       "      <th>Unnamed: 0</th>\n",
       "      <th>text</th>\n",
       "      <th>source</th>\n",
       "      <th>label</th>\n",
       "    </tr>\n",
       "  </thead>\n",
       "  <tbody>\n",
       "    <tr>\n",
       "      <th>0</th>\n",
       "      <td>0</td>\n",
       "      <td>I'm not happy with what I've wrote to be hones...</td>\n",
       "      <td>Human</td>\n",
       "      <td>0</td>\n",
       "    </tr>\n",
       "    <tr>\n",
       "      <th>1</th>\n",
       "      <td>1</td>\n",
       "      <td>Postmodernist Anthropology and its Impact on T...</td>\n",
       "      <td>Human</td>\n",
       "      <td>0</td>\n",
       "    </tr>\n",
       "    <tr>\n",
       "      <th>2</th>\n",
       "      <td>2</td>\n",
       "      <td>Firstly, is it okay to write an essay or does ...</td>\n",
       "      <td>Human</td>\n",
       "      <td>0</td>\n",
       "    </tr>\n",
       "    <tr>\n",
       "      <th>3</th>\n",
       "      <td>3</td>\n",
       "      <td>Nissan Company’s Operational Changes and Manag...</td>\n",
       "      <td>Human</td>\n",
       "      <td>0</td>\n",
       "    </tr>\n",
       "    <tr>\n",
       "      <th>4</th>\n",
       "      <td>4</td>\n",
       "      <td>I think some people might find visiting a nati...</td>\n",
       "      <td>Human</td>\n",
       "      <td>0</td>\n",
       "    </tr>\n",
       "    <tr>\n",
       "      <th>...</th>\n",
       "      <td>...</td>\n",
       "      <td>...</td>\n",
       "      <td>...</td>\n",
       "      <td>...</td>\n",
       "    </tr>\n",
       "    <tr>\n",
       "      <th>51995</th>\n",
       "      <td>995</td>\n",
       "      <td>The cybersecurity community is abuzz with the ...</td>\n",
       "      <td>GPT-3.5</td>\n",
       "      <td>1</td>\n",
       "    </tr>\n",
       "    <tr>\n",
       "      <th>51996</th>\n",
       "      <td>996</td>\n",
       "      <td>As a language model AI, I cannot agree or disa...</td>\n",
       "      <td>GPT-3.5</td>\n",
       "      <td>1</td>\n",
       "    </tr>\n",
       "    <tr>\n",
       "      <th>51997</th>\n",
       "      <td>997</td>\n",
       "      <td>The night was falling on the western hemispher...</td>\n",
       "      <td>GPT-3.5</td>\n",
       "      <td>1</td>\n",
       "    </tr>\n",
       "    <tr>\n",
       "      <th>51998</th>\n",
       "      <td>998</td>\n",
       "      <td>The Pirate Bay (TPB) has been able to continue...</td>\n",
       "      <td>GPT-3.5</td>\n",
       "      <td>1</td>\n",
       "    </tr>\n",
       "    <tr>\n",
       "      <th>51999</th>\n",
       "      <td>999</td>\n",
       "      <td>Education plays a crucial role in promoting en...</td>\n",
       "      <td>GPT-3.5</td>\n",
       "      <td>1</td>\n",
       "    </tr>\n",
       "  </tbody>\n",
       "</table>\n",
       "<p>52000 rows × 4 columns</p>\n",
       "</div>"
      ],
      "text/plain": [
       "       Unnamed: 0                                               text   source  \\\n",
       "0               0  I'm not happy with what I've wrote to be hones...    Human   \n",
       "1               1  Postmodernist Anthropology and its Impact on T...    Human   \n",
       "2               2  Firstly, is it okay to write an essay or does ...    Human   \n",
       "3               3  Nissan Company’s Operational Changes and Manag...    Human   \n",
       "4               4  I think some people might find visiting a nati...    Human   \n",
       "...           ...                                                ...      ...   \n",
       "51995         995  The cybersecurity community is abuzz with the ...  GPT-3.5   \n",
       "51996         996  As a language model AI, I cannot agree or disa...  GPT-3.5   \n",
       "51997         997  The night was falling on the western hemispher...  GPT-3.5   \n",
       "51998         998  The Pirate Bay (TPB) has been able to continue...  GPT-3.5   \n",
       "51999         999  Education plays a crucial role in promoting en...  GPT-3.5   \n",
       "\n",
       "       label  \n",
       "0          0  \n",
       "1          0  \n",
       "2          0  \n",
       "3          0  \n",
       "4          0  \n",
       "...      ...  \n",
       "51995      1  \n",
       "51996      1  \n",
       "51997      1  \n",
       "51998      1  \n",
       "51999      1  \n",
       "\n",
       "[52000 rows x 4 columns]"
      ]
     },
     "execution_count": 13,
     "metadata": {},
     "output_type": "execute_result"
    }
   ],
   "source": [
    "df_combined"
   ]
  },
  {
   "cell_type": "code",
   "execution_count": 15,
   "metadata": {},
   "outputs": [
    {
     "name": "stderr",
     "output_type": "stream",
     "text": [
      "C:\\Users\\venka\\AppData\\Local\\Temp\\ipykernel_26796\\1197318866.py:13: FutureWarning: \n",
      "\n",
      "Passing `palette` without assigning `hue` is deprecated and will be removed in v0.14.0. Assign the `x` variable to `hue` and set `legend=False` for the same effect.\n",
      "\n",
      "  sns.barplot(ax=axes[0], x=sentiment_counts_generated.index, y=sentiment_counts_generated.values, palette='coolwarm')\n",
      "C:\\Users\\venka\\AppData\\Local\\Temp\\ipykernel_26796\\1197318866.py:19: FutureWarning: \n",
      "\n",
      "Passing `palette` without assigning `hue` is deprecated and will be removed in v0.14.0. Assign the `x` variable to `hue` and set `legend=False` for the same effect.\n",
      "\n",
      "  sns.barplot(ax=axes[1], x=sentiment_counts_not_generated.index, y=sentiment_counts_not_generated.values, palette='coolwarm')\n"
     ]
    },
    {
     "data": {
      "image/png": "[encoded data removed]",
      "text/plain": [
       "<Figure size 1600x600 with 2 Axes>"
      ]
     },
     "metadata": {},
     "output_type": "display_data"
    }
   ],
   "source": [
    "\n",
    "# Separate the dataframe into two based on the 'Generated' column\n",
    "generated_df = df_combined[df_combined['label'] == 1]\n",
    "not_generated_df = df_combined[df_combined['label'] == 0]\n",
    "\n",
    "# Get the sentiment counts for both generated and not generated\n",
    "sentiment_counts_generated = generated_df['overall_sentiment'].value_counts()\n",
    "sentiment_counts_not_generated = not_generated_df['overall_sentiment'].value_counts()\n",
    "\n",
    "# Set up the matplotlib figure\n",
    "fig, axes = plt.subplots(1, 2, figsize=(16, 6), sharey=True)\n",
    "\n",
    "# Plot for generated\n",
    "sns.barplot(ax=axes[0], x=sentiment_counts_generated.index, y=sentiment_counts_generated.values, palette='coolwarm')\n",
    "axes[0].set_title('Distribution of Sentiments for AI generated Text')\n",
    "axes[0].set_xlabel('Sentiment')\n",
    "axes[0].set_ylabel('Number of Essays')\n",
    "\n",
    "# Plot for not generated\n",
    "sns.barplot(ax=axes[1], x=sentiment_counts_not_generated.index, y=sentiment_counts_not_generated.values, palette='coolwarm')\n",
    "axes[1].set_title('Distribution of Sentiments for Human Written Text')\n",
    "axes[1].set_xlabel('Sentiment')\n",
    "# The ylabel is shared, set by the first subplot\n",
    "\n",
    "# Show the plot\n",
    "plt.show()"
   ]
  },
  {
   "cell_type": "raw",
   "metadata": {},
   "source": [
    "df_combined.to_csv(directory +\"/Data//Sentiment_Analysis_Complete.csv\", index=False)"
   ]
  },
  {
   "cell_type": "code",
   "execution_count": 25,
   "metadata": {},
   "outputs": [],
   "source": [
    "import os\n",
    "\n",
    "# Define the directory path\n",
    "directory_sentiment_analysis = directory + \"Sentiment_Analysis\"\n",
    "file_path = directory_sentiment_analysis + \"//Sentiment_Analysis_Complete.csv\"\n",
    "\n"
   ]
  },
  {
   "cell_type": "code",
   "execution_count": 28,
   "metadata": {},
   "outputs": [],
   "source": [
    "\n",
    "# Check if the directory exists; if not, create it\n",
    "os.makedirs(os.path.dirname(file_path), exist_ok=True)\n",
    "\n",
    "# Save the DataFrame to CSV\n",
    "df_combined.to_csv(file_path, index=False)"
   ]
  },
  {
   "cell_type": "code",
   "execution_count": null,
   "metadata": {},
   "outputs": [],
   "source": []
  }
 ],
 "metadata": {
  "kernelspec": {
   "display_name": "Python 3 (ipykernel)",
   "language": "python",
   "name": "python3"
  },
  "language_info": {
   "codemirror_mode": {
    "name": "ipython",
    "version": 3
   },
   "file_extension": ".py",
   "mimetype": "text/x-python",
   "name": "python",
   "nbconvert_exporter": "python",
   "pygments_lexer": "ipython3",
   "version": "3.9.19"
  }
 },
 "nbformat": 4,
 "nbformat_minor": 4
}
