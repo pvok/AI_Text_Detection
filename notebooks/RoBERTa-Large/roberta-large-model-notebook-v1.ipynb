{
 "cells": [
  {
   "cell_type": "code",
   "execution_count": 25,
   "metadata": {},
   "outputs": [],
   "source": [
    "import numpy as np\n",
    "import pandas as pd\n",
    "import opendatasets as od\n",
    "\n",
    "import os\n",
    "import warnings\n",
    "import torch\n",
    "\n",
    "import datasets\n",
    "from sklearn.model_selection import train_test_split\n",
    "from sklearn.metrics import accuracy_score, precision_recall_fscore_support\n",
    "from transformers import RobertaTokenizer, RobertaForSequenceClassification, TrainingArguments, Trainer\n",
    "\n",
    "pd.set_option('display.max_columns', None)\n",
    "warnings.filterwarnings('ignore')\n",
    "torch.cuda.empty_cache()\n",
    "np.random.seed(42)"
   ]
  },
  {
   "cell_type": "code",
   "execution_count": 26,
   "metadata": {},
   "outputs": [],
   "source": [
    "data_path_dict = {\n",
    "    'data_path': '../data',\n",
    "    'model_data': '../data/model_data',\n",
    "    'data_subset': '../data/model_data/data_subset',\n",
    "    'models': '../data/models'\n",
    "}\n",
    "\n",
    "for file_path_key in data_path_dict:\n",
    "    if not os.path.exists(data_path_dict[file_path_key]):\n",
    "        print(f'Path does not Exist: {data_path_dict[file_path_key]}')\n",
    "\n",
    "        os.makedirs(data_path_dict[file_path_key])"
   ]
  },
  {
   "cell_type": "code",
   "execution_count": 27,
   "metadata": {},
   "outputs": [],
   "source": [
    "if not (os.path.exists('../data/human-vs-llm-text-corpus') or os.path.exists('../data/human_vs_llm_text_corpus')):\n",
    "    od.download(dataset_id_or_url=\"https://www.kaggle.com/datasets/starblasters8/human-vs-llm-text-corpus\", data_dir='../data/')\n",
    "    os.rename('../data/human-vs-llm-text-corpus/', '../data/human_vs_llm_text_corpus/')"
   ]
  },
  {
   "cell_type": "code",
   "execution_count": 28,
   "metadata": {},
   "outputs": [
    {
     "data": {
      "text/plain": [
       "device(type='cuda')"
      ]
     },
     "execution_count": 28,
     "metadata": {},
     "output_type": "execute_result"
    }
   ],
   "source": [
    "raw_data_path = '../data/human_vs_llm_text_corpus/data.parquet'\n",
    "data_subset_path = '../data/model_data/data_subset/'\n",
    "\n",
    "device = torch.device(\"cuda\" if torch.cuda.is_available() else \"cpu\")\n",
    "device"
   ]
  },
  {
   "cell_type": "code",
   "execution_count": 46,
   "metadata": {},
   "outputs": [
    {
     "data": {
      "text/plain": [
       "((1920,), (40,), (40,))"
      ]
     },
     "execution_count": 46,
     "metadata": {},
     "output_type": "execute_result"
    }
   ],
   "source": [
    "raw_data = pd.read_parquet(raw_data_path)\n",
    "\n",
    "raw_data = raw_data[raw_data['source'].isin(['Human', 'GPT-3.5'])]\n",
    "raw_data = raw_data.groupby('source').apply(lambda row: row.sample(n=26000)).reset_index(drop=True)\n",
    "\n",
    "raw_data['source'] = np.where(raw_data['source'] == 'Human', 0, 1)\n",
    "\n",
    "X_train, X_test, y_train, y_test = train_test_split(raw_data['text'], raw_data['source'], test_size=0.02, stratify=raw_data['source'], random_state=42)\n",
    "X_train, X_val, y_train, y_val = train_test_split(X_train, y_train, test_size=0.02, stratify=y_train, random_state=42)\n",
    "\n",
    "X_train.shape, X_test.shape, X_val.shape"
   ]
  },
  {
   "cell_type": "code",
   "execution_count": 47,
   "metadata": {},
   "outputs": [
    {
     "name": "stderr",
     "output_type": "stream",
     "text": [
      "Some weights of RobertaForSequenceClassification were not initialized from the model checkpoint at roberta-large and are newly initialized: ['classifier.dense.bias', 'classifier.dense.weight', 'classifier.out_proj.bias', 'classifier.out_proj.weight']\n",
      "You should probably TRAIN this model on a down-stream task to be able to use it for predictions and inference.\n"
     ]
    },
    {
     "name": "stdout",
     "output_type": "stream",
     "text": [
      "Trainable parameters: 355,361,794\n",
      "Non-trainable parameters: 0\n",
      "Trainable parameters: 25,192,448\n",
      "Non-trainable parameters: 330,169,346\n"
     ]
    }
   ],
   "source": [
    "def count_parameters(model):\n",
    "    trainable_params = sum(p.numel() for p in model.parameters() if p.requires_grad)\n",
    "    non_trainable_params = sum(p.numel() for p in model.parameters() if not p.requires_grad)\n",
    "    return trainable_params, non_trainable_params\n",
    "\n",
    "tokenizer = RobertaTokenizer.from_pretrained('roberta-large', max_length=512, is_split_into_words=True)\n",
    "model = RobertaForSequenceClassification.from_pretrained('roberta-large', num_labels=2)\n",
    "\n",
    "trainable_params, non_trainable_params = count_parameters(model)\n",
    "print(f\"Trainable parameters: {trainable_params:,}\")\n",
    "print(f\"Non-trainable parameters: {non_trainable_params:,}\")\n",
    "\n",
    "for param in model.parameters():\n",
    "    param.requires_grad = False\n",
    "\n",
    "for param in model.roberta.encoder.layer[-2:].parameters():\n",
    "    param.requires_grad = True\n",
    "\n",
    "trainable_params, non_trainable_params = count_parameters(model)\n",
    "print(f\"Trainable parameters: {trainable_params:,}\")\n",
    "print(f\"Non-trainable parameters: {non_trainable_params:,}\")"
   ]
  },
  {
   "cell_type": "code",
   "execution_count": 48,
   "metadata": {},
   "outputs": [
    {
     "data": {
      "application/vnd.jupyter.widget-view+json": {
       "model_id": "fb2f3f9e7f49416a8be8156a2ba66681",
       "version_major": 2,
       "version_minor": 0
      },
      "text/plain": [
       "Map:   0%|          | 0/1920 [00:00<?, ? examples/s]"
      ]
     },
     "metadata": {},
     "output_type": "display_data"
    },
    {
     "data": {
      "application/vnd.jupyter.widget-view+json": {
       "model_id": "cb4e862776594c42817c01cba7c4c194",
       "version_major": 2,
       "version_minor": 0
      },
      "text/plain": [
       "Map:   0%|          | 0/40 [00:00<?, ? examples/s]"
      ]
     },
     "metadata": {},
     "output_type": "display_data"
    },
    {
     "data": {
      "application/vnd.jupyter.widget-view+json": {
       "model_id": "9938571153a04173b53e4c067f573b8e",
       "version_major": 2,
       "version_minor": 0
      },
      "text/plain": [
       "Map:   0%|          | 0/40 [00:00<?, ? examples/s]"
      ]
     },
     "metadata": {},
     "output_type": "display_data"
    }
   ],
   "source": [
    "train_dataset = datasets.Dataset.from_dict({'text': X_train, 'labels': y_train})\n",
    "val_dataset = datasets.Dataset.from_dict({'text': X_val, 'labels': y_val})\n",
    "test_dataset = datasets.Dataset.from_dict({'text': X_test, 'labels': y_test})\n",
    "\n",
    "def tokenization(batched_text):\n",
    "    return tokenizer(batched_text['text'], padding=True, truncation=True)\n",
    "\n",
    "train_dataset = train_dataset.map(tokenization, batched=True, batch_size=128)\n",
    "val_dataset = val_dataset.map(tokenization, batched=True, batch_size=128)\n",
    "test_dataset = test_dataset.map(tokenization, batched=True, batch_size=128)"
   ]
  },
  {
   "cell_type": "code",
   "execution_count": 49,
   "metadata": {},
   "outputs": [],
   "source": [
    "train_dataset.set_format('torch', columns=['input_ids', 'attention_mask', 'labels'])\n",
    "val_dataset.set_format('torch', columns=['input_ids', 'attention_mask', 'labels'])\n",
    "test_dataset.set_format('torch', columns=['input_ids', 'attention_mask', 'labels'])"
   ]
  },
  {
   "cell_type": "code",
   "execution_count": 50,
   "metadata": {},
   "outputs": [],
   "source": [
    "def compute_metrics(pred):\n",
    "    labels = pred.label_ids\n",
    "    preds = pred.predictions.argmax(-1)\n",
    "\n",
    "    precision, recall, f1, _ = precision_recall_fscore_support(labels, preds, average='binary')\n",
    "    acc = accuracy_score(labels, preds)\n",
    "\n",
    "    return {'accuracy': acc, 'f1': f1, 'precision': precision, 'recall': recall}"
   ]
  },
  {
   "cell_type": "code",
   "execution_count": 10,
   "metadata": {},
   "outputs": [],
   "source": [
    "training_args = TrainingArguments(\n",
    "    output_dir='../data/models/roberta_large_model_checkpoint', num_train_epochs=5, per_device_train_batch_size=8, per_device_eval_batch_size=8,\n",
    "    gradient_accumulation_steps=8, disable_tqdm=False, load_best_model_at_end=True, overwrite_output_dir=True,\n",
    "    logging_steps=8, fp16 = True, logging_dir='../model_logs', dataloader_num_workers = 8,\n",
    "    run_name = 'roberta-large-classification-v1', evaluation_strategy='epoch', save_strategy='epoch')"
   ]
  },
  {
   "cell_type": "code",
   "execution_count": 11,
   "metadata": {},
   "outputs": [],
   "source": [
    "trainer = Trainer(\n",
    "    model=model, args=training_args, compute_metrics=compute_metrics,\n",
    "    train_dataset=train_dataset, eval_dataset=val_dataset)"
   ]
  },
  {
   "cell_type": "code",
   "execution_count": 12,
   "metadata": {},
   "outputs": [
    {
     "data": {
      "application/vnd.jupyter.widget-view+json": {
       "model_id": "edbfbc9c4add469eae20ba61c3fe4041",
       "version_major": 2,
       "version_minor": 0
      },
      "text/plain": [
       "  0%|          | 0/3900 [00:00<?, ?it/s]"
      ]
     },
     "metadata": {},
     "output_type": "display_data"
    },
    {
     "name": "stdout",
     "output_type": "stream",
     "text": [
      "{'loss': 0.6812, 'grad_norm': 1.3164498805999756, 'learning_rate': 4.9897435897435904e-05, 'epoch': 0.01}\n",
      "{'loss': 0.443, 'grad_norm': 4.338006496429443, 'learning_rate': 4.979487179487179e-05, 'epoch': 0.02}\n",
      "{'loss': 0.2587, 'grad_norm': 2.3948256969451904, 'learning_rate': 4.969230769230769e-05, 'epoch': 0.03}\n",
      "{'loss': 0.1495, 'grad_norm': 4.941751956939697, 'learning_rate': 4.9589743589743594e-05, 'epoch': 0.04}\n",
      "{'loss': 0.1376, 'grad_norm': 2.616694688796997, 'learning_rate': 4.948717948717949e-05, 'epoch': 0.05}\n",
      "{'loss': 0.1548, 'grad_norm': 5.906073570251465, 'learning_rate': 4.9384615384615384e-05, 'epoch': 0.06}\n",
      "{'loss': 0.1287, 'grad_norm': 2.816087484359741, 'learning_rate': 4.9282051282051285e-05, 'epoch': 0.07}\n",
      "{'loss': 0.1129, 'grad_norm': 5.12425422668457, 'learning_rate': 4.917948717948718e-05, 'epoch': 0.08}\n",
      "{'loss': 0.089, 'grad_norm': 2.638442039489746, 'learning_rate': 4.907692307692308e-05, 'epoch': 0.09}\n",
      "{'loss': 0.0369, 'grad_norm': 1.6807336807250977, 'learning_rate': 4.8974358974358975e-05, 'epoch': 0.1}\n",
      "{'loss': 0.0847, 'grad_norm': 1.4755382537841797, 'learning_rate': 4.887179487179488e-05, 'epoch': 0.11}\n",
      "{'loss': 0.0849, 'grad_norm': 9.61655330657959, 'learning_rate': 4.876923076923077e-05, 'epoch': 0.12}\n",
      "{'loss': 0.0824, 'grad_norm': 0.4364258050918579, 'learning_rate': 4.866666666666667e-05, 'epoch': 0.13}\n",
      "{'loss': 0.0507, 'grad_norm': 2.7441928386688232, 'learning_rate': 4.856410256410257e-05, 'epoch': 0.14}\n",
      "{'loss': 0.0417, 'grad_norm': 1.674317717552185, 'learning_rate': 4.846153846153846e-05, 'epoch': 0.15}\n",
      "{'loss': 0.0613, 'grad_norm': 2.2431411743164062, 'learning_rate': 4.835897435897436e-05, 'epoch': 0.16}\n",
      "{'loss': 0.0649, 'grad_norm': 2.541360378265381, 'learning_rate': 4.825641025641026e-05, 'epoch': 0.17}\n",
      "{'loss': 0.0676, 'grad_norm': 2.027505874633789, 'learning_rate': 4.815384615384615e-05, 'epoch': 0.18}\n",
      "{'loss': 0.0605, 'grad_norm': 4.2427897453308105, 'learning_rate': 4.8051282051282054e-05, 'epoch': 0.19}\n",
      "{'loss': 0.0536, 'grad_norm': 1.9733679294586182, 'learning_rate': 4.7948717948717955e-05, 'epoch': 0.21}\n",
      "{'loss': 0.0946, 'grad_norm': 3.1428680419921875, 'learning_rate': 4.784615384615384e-05, 'epoch': 0.22}\n",
      "{'loss': 0.0764, 'grad_norm': 2.4107022285461426, 'learning_rate': 4.7743589743589744e-05, 'epoch': 0.23}\n",
      "{'loss': 0.0371, 'grad_norm': 2.037140130996704, 'learning_rate': 4.7641025641025646e-05, 'epoch': 0.24}\n",
      "{'loss': 0.077, 'grad_norm': 2.4172842502593994, 'learning_rate': 4.753846153846154e-05, 'epoch': 0.25}\n",
      "{'loss': 0.0148, 'grad_norm': 1.4460943937301636, 'learning_rate': 4.7435897435897435e-05, 'epoch': 0.26}\n",
      "{'loss': 0.0462, 'grad_norm': 1.8681526184082031, 'learning_rate': 4.7333333333333336e-05, 'epoch': 0.27}\n",
      "{'loss': 0.038, 'grad_norm': 0.29286080598831177, 'learning_rate': 4.723076923076923e-05, 'epoch': 0.28}\n",
      "{'loss': 0.0697, 'grad_norm': 10.188739776611328, 'learning_rate': 4.712820512820513e-05, 'epoch': 0.29}\n",
      "{'loss': 0.061, 'grad_norm': 2.8369052410125732, 'learning_rate': 4.702564102564103e-05, 'epoch': 0.3}\n",
      "{'loss': 0.0687, 'grad_norm': 4.5227952003479, 'learning_rate': 4.692307692307693e-05, 'epoch': 0.31}\n",
      "{'loss': 0.038, 'grad_norm': 2.8537633419036865, 'learning_rate': 4.682051282051282e-05, 'epoch': 0.32}\n",
      "{'loss': 0.0401, 'grad_norm': 1.5720559358596802, 'learning_rate': 4.671794871794872e-05, 'epoch': 0.33}\n",
      "{'loss': 0.0621, 'grad_norm': 0.17501763999462128, 'learning_rate': 4.661538461538462e-05, 'epoch': 0.34}\n",
      "{'loss': 0.0467, 'grad_norm': 5.836094379425049, 'learning_rate': 4.6512820512820514e-05, 'epoch': 0.35}\n",
      "{'loss': 0.0285, 'grad_norm': 0.4411002993583679, 'learning_rate': 4.6410256410256415e-05, 'epoch': 0.36}\n",
      "{'loss': 0.0602, 'grad_norm': 1.332035779953003, 'learning_rate': 4.630769230769231e-05, 'epoch': 0.37}\n",
      "{'loss': 0.0438, 'grad_norm': 6.338972568511963, 'learning_rate': 4.6205128205128204e-05, 'epoch': 0.38}\n",
      "{'loss': 0.0243, 'grad_norm': 2.2421369552612305, 'learning_rate': 4.6102564102564105e-05, 'epoch': 0.39}\n",
      "{'loss': 0.0447, 'grad_norm': 6.2550811767578125, 'learning_rate': 4.600000000000001e-05, 'epoch': 0.4}\n",
      "{'loss': 0.0393, 'grad_norm': 2.6149983406066895, 'learning_rate': 4.5897435897435895e-05, 'epoch': 0.41}\n",
      "{'loss': 0.0602, 'grad_norm': 1.9678730964660645, 'learning_rate': 4.5794871794871796e-05, 'epoch': 0.42}\n",
      "{'loss': 0.0293, 'grad_norm': 3.6816108226776123, 'learning_rate': 4.56923076923077e-05, 'epoch': 0.43}\n",
      "{'loss': 0.0705, 'grad_norm': 7.5942606925964355, 'learning_rate': 4.558974358974359e-05, 'epoch': 0.44}\n",
      "{'loss': 0.0559, 'grad_norm': 1.9496726989746094, 'learning_rate': 4.5487179487179487e-05, 'epoch': 0.45}\n",
      "{'loss': 0.063, 'grad_norm': 4.0332818031311035, 'learning_rate': 4.538461538461539e-05, 'epoch': 0.46}\n",
      "{'loss': 0.0558, 'grad_norm': 8.783075332641602, 'learning_rate': 4.528205128205128e-05, 'epoch': 0.47}\n",
      "{'loss': 0.0729, 'grad_norm': 3.380774736404419, 'learning_rate': 4.5179487179487184e-05, 'epoch': 0.48}\n",
      "{'loss': 0.0537, 'grad_norm': 4.268438816070557, 'learning_rate': 4.507692307692308e-05, 'epoch': 0.49}\n",
      "{'loss': 0.0588, 'grad_norm': 6.602719306945801, 'learning_rate': 4.497435897435898e-05, 'epoch': 0.5}\n",
      "{'loss': 0.0447, 'grad_norm': 2.5346806049346924, 'learning_rate': 4.4871794871794874e-05, 'epoch': 0.51}\n",
      "{'loss': 0.0569, 'grad_norm': 1.3883882761001587, 'learning_rate': 4.476923076923077e-05, 'epoch': 0.52}\n",
      "{'loss': 0.0762, 'grad_norm': 5.702096939086914, 'learning_rate': 4.466666666666667e-05, 'epoch': 0.53}\n",
      "{'loss': 0.0757, 'grad_norm': 1.971199870109558, 'learning_rate': 4.4564102564102565e-05, 'epoch': 0.54}\n",
      "{'loss': 0.0483, 'grad_norm': 4.384848594665527, 'learning_rate': 4.4461538461538466e-05, 'epoch': 0.55}\n",
      "{'loss': 0.0427, 'grad_norm': 4.608516693115234, 'learning_rate': 4.435897435897436e-05, 'epoch': 0.56}\n",
      "{'loss': 0.0668, 'grad_norm': 0.6175236105918884, 'learning_rate': 4.4256410256410256e-05, 'epoch': 0.57}\n",
      "{'loss': 0.0428, 'grad_norm': 2.0628304481506348, 'learning_rate': 4.415384615384616e-05, 'epoch': 0.58}\n",
      "{'loss': 0.023, 'grad_norm': 0.08008522540330887, 'learning_rate': 4.405128205128206e-05, 'epoch': 0.59}\n",
      "{'loss': 0.0213, 'grad_norm': 1.9473398923873901, 'learning_rate': 4.3948717948717946e-05, 'epoch': 0.6}\n",
      "{'loss': 0.0525, 'grad_norm': 1.9858543872833252, 'learning_rate': 4.384615384615385e-05, 'epoch': 0.62}\n",
      "{'loss': 0.0409, 'grad_norm': 4.598587989807129, 'learning_rate': 4.374358974358975e-05, 'epoch': 0.63}\n",
      "{'loss': 0.0494, 'grad_norm': 2.2773005962371826, 'learning_rate': 4.3641025641025643e-05, 'epoch': 0.64}\n",
      "{'loss': 0.0289, 'grad_norm': 3.047407388687134, 'learning_rate': 4.353846153846154e-05, 'epoch': 0.65}\n",
      "{'loss': 0.0413, 'grad_norm': 2.2174360752105713, 'learning_rate': 4.343589743589744e-05, 'epoch': 0.66}\n",
      "{'loss': 0.0319, 'grad_norm': 0.5335907340049744, 'learning_rate': 4.3333333333333334e-05, 'epoch': 0.67}\n",
      "{'loss': 0.0374, 'grad_norm': 0.46863293647766113, 'learning_rate': 4.323076923076923e-05, 'epoch': 0.68}\n",
      "{'loss': 0.0706, 'grad_norm': 8.958978652954102, 'learning_rate': 4.312820512820513e-05, 'epoch': 0.69}\n",
      "{'loss': 0.0206, 'grad_norm': 2.1268117427825928, 'learning_rate': 4.302564102564103e-05, 'epoch': 0.7}\n",
      "{'loss': 0.0431, 'grad_norm': 0.8856419324874878, 'learning_rate': 4.2923076923076926e-05, 'epoch': 0.71}\n",
      "{'loss': 0.0184, 'grad_norm': 0.9708940386772156, 'learning_rate': 4.282051282051282e-05, 'epoch': 0.72}\n",
      "{'loss': 0.0386, 'grad_norm': 2.5897207260131836, 'learning_rate': 4.271794871794872e-05, 'epoch': 0.73}\n",
      "{'loss': 0.0444, 'grad_norm': 1.3881618976593018, 'learning_rate': 4.2615384615384617e-05, 'epoch': 0.74}\n",
      "{'loss': 0.0837, 'grad_norm': 2.6660938262939453, 'learning_rate': 4.251282051282052e-05, 'epoch': 0.75}\n",
      "{'loss': 0.0272, 'grad_norm': 2.2536065578460693, 'learning_rate': 4.241025641025641e-05, 'epoch': 0.76}\n",
      "{'loss': 0.0283, 'grad_norm': 2.7718026638031006, 'learning_rate': 4.230769230769231e-05, 'epoch': 0.77}\n",
      "{'loss': 0.0141, 'grad_norm': 0.06795159727334976, 'learning_rate': 4.220512820512821e-05, 'epoch': 0.78}\n",
      "{'loss': 0.0634, 'grad_norm': 2.082557201385498, 'learning_rate': 4.210256410256411e-05, 'epoch': 0.79}\n",
      "{'loss': 0.0352, 'grad_norm': 3.216454267501831, 'learning_rate': 4.2e-05, 'epoch': 0.8}\n",
      "{'loss': 0.0177, 'grad_norm': 2.7624363899230957, 'learning_rate': 4.18974358974359e-05, 'epoch': 0.81}\n",
      "{'loss': 0.0295, 'grad_norm': 2.749423027038574, 'learning_rate': 4.17948717948718e-05, 'epoch': 0.82}\n",
      "{'loss': 0.0242, 'grad_norm': 1.2403310537338257, 'learning_rate': 4.169230769230769e-05, 'epoch': 0.83}\n",
      "{'loss': 0.0504, 'grad_norm': 1.8963720798492432, 'learning_rate': 4.158974358974359e-05, 'epoch': 0.84}\n",
      "{'loss': 0.0507, 'grad_norm': 9.286306381225586, 'learning_rate': 4.148717948717949e-05, 'epoch': 0.85}\n",
      "{'loss': 0.0378, 'grad_norm': 4.64417839050293, 'learning_rate': 4.1384615384615386e-05, 'epoch': 0.86}\n",
      "{'loss': 0.0259, 'grad_norm': 0.45003634691238403, 'learning_rate': 4.128205128205128e-05, 'epoch': 0.87}\n",
      "{'loss': 0.0538, 'grad_norm': 3.3755178451538086, 'learning_rate': 4.117948717948718e-05, 'epoch': 0.88}\n",
      "{'loss': 0.0444, 'grad_norm': 2.0820508003234863, 'learning_rate': 4.1076923076923076e-05, 'epoch': 0.89}\n",
      "{'loss': 0.0212, 'grad_norm': 1.5532406568527222, 'learning_rate': 4.097435897435898e-05, 'epoch': 0.9}\n",
      "{'loss': 0.0599, 'grad_norm': 6.969117164611816, 'learning_rate': 4.087179487179487e-05, 'epoch': 0.91}\n",
      "{'loss': 0.0392, 'grad_norm': 1.6467666625976562, 'learning_rate': 4.0769230769230773e-05, 'epoch': 0.92}\n",
      "{'loss': 0.0337, 'grad_norm': 2.928091287612915, 'learning_rate': 4.066666666666667e-05, 'epoch': 0.93}\n",
      "{'loss': 0.0242, 'grad_norm': 0.26335856318473816, 'learning_rate': 4.056410256410257e-05, 'epoch': 0.94}\n",
      "{'loss': 0.1481, 'grad_norm': 2.964839220046997, 'learning_rate': 4.0461538461538464e-05, 'epoch': 0.95}\n",
      "{'loss': 0.057, 'grad_norm': 5.230737686157227, 'learning_rate': 4.035897435897436e-05, 'epoch': 0.96}\n",
      "{'loss': 0.0393, 'grad_norm': 3.1748695373535156, 'learning_rate': 4.025641025641026e-05, 'epoch': 0.97}\n",
      "{'loss': 0.122, 'grad_norm': 1.3821264505386353, 'learning_rate': 4.0153846153846155e-05, 'epoch': 0.98}\n",
      "{'loss': 0.0364, 'grad_norm': 1.9321714639663696, 'learning_rate': 4.005128205128205e-05, 'epoch': 0.99}\n"
     ]
    },
    {
     "data": {
      "application/vnd.jupyter.widget-view+json": {
       "model_id": "9dc599f0cc574669aa44e10344cad4b3",
       "version_major": 2,
       "version_minor": 0
      },
      "text/plain": [
       "  0%|          | 0/128 [00:00<?, ?it/s]"
      ]
     },
     "metadata": {},
     "output_type": "display_data"
    },
    {
     "name": "stdout",
     "output_type": "stream",
     "text": [
      "{'eval_loss': 0.07523393630981445, 'eval_accuracy': 0.9803921568627451, 'eval_f1': 0.9807321772639692, 'eval_precision': 0.9640151515151515, 'eval_recall': 0.9980392156862745, 'eval_runtime': 50.1274, 'eval_samples_per_second': 20.348, 'eval_steps_per_second': 2.553, 'epoch': 1.0}\n",
      "{'loss': 0.0444, 'grad_norm': 0.2949162423610687, 'learning_rate': 3.994871794871795e-05, 'epoch': 1.0}\n",
      "{'loss': 0.035, 'grad_norm': 1.9489147663116455, 'learning_rate': 3.984615384615385e-05, 'epoch': 1.01}\n",
      "{'loss': 0.0559, 'grad_norm': 3.962026834487915, 'learning_rate': 3.974358974358974e-05, 'epoch': 1.03}\n",
      "{'loss': 0.0169, 'grad_norm': 0.812520444393158, 'learning_rate': 3.964102564102564e-05, 'epoch': 1.04}\n",
      "{'loss': 0.0253, 'grad_norm': 1.4716525077819824, 'learning_rate': 3.953846153846154e-05, 'epoch': 1.05}\n",
      "{'loss': 0.0204, 'grad_norm': 0.26988303661346436, 'learning_rate': 3.943589743589744e-05, 'epoch': 1.06}\n",
      "{'loss': 0.015, 'grad_norm': 0.19651570916175842, 'learning_rate': 3.933333333333333e-05, 'epoch': 1.07}\n",
      "{'loss': 0.0128, 'grad_norm': 0.16348664462566376, 'learning_rate': 3.923076923076923e-05, 'epoch': 1.08}\n",
      "{'loss': 0.0244, 'grad_norm': 5.7730865478515625, 'learning_rate': 3.912820512820513e-05, 'epoch': 1.09}\n",
      "{'loss': 0.0238, 'grad_norm': 3.903092384338379, 'learning_rate': 3.902564102564103e-05, 'epoch': 1.1}\n",
      "{'loss': 0.0183, 'grad_norm': 1.1961756944656372, 'learning_rate': 3.8923076923076924e-05, 'epoch': 1.11}\n",
      "{'loss': 0.0249, 'grad_norm': 5.787170886993408, 'learning_rate': 3.8820512820512825e-05, 'epoch': 1.12}\n",
      "{'loss': 0.047, 'grad_norm': 1.457979679107666, 'learning_rate': 3.871794871794872e-05, 'epoch': 1.13}\n",
      "{'loss': 0.0114, 'grad_norm': 6.196998119354248, 'learning_rate': 3.861538461538462e-05, 'epoch': 1.14}\n",
      "{'loss': 0.0615, 'grad_norm': 1.6563162803649902, 'learning_rate': 3.8512820512820516e-05, 'epoch': 1.15}\n",
      "{'loss': 0.0282, 'grad_norm': 1.6842049360275269, 'learning_rate': 3.841025641025641e-05, 'epoch': 1.16}\n",
      "{'loss': 0.0208, 'grad_norm': 1.0403152704238892, 'learning_rate': 3.830769230769231e-05, 'epoch': 1.17}\n",
      "{'loss': 0.0086, 'grad_norm': 3.744643211364746, 'learning_rate': 3.8205128205128206e-05, 'epoch': 1.18}\n",
      "{'loss': 0.0219, 'grad_norm': 4.420845031738281, 'learning_rate': 3.81025641025641e-05, 'epoch': 1.19}\n",
      "{'loss': 0.0285, 'grad_norm': 0.35891035199165344, 'learning_rate': 3.8e-05, 'epoch': 1.2}\n",
      "{'loss': 0.0469, 'grad_norm': 3.1645638942718506, 'learning_rate': 3.7897435897435903e-05, 'epoch': 1.21}\n",
      "{'loss': 0.0313, 'grad_norm': 1.1560254096984863, 'learning_rate': 3.779487179487179e-05, 'epoch': 1.22}\n",
      "{'loss': 0.0264, 'grad_norm': 0.5713914632797241, 'learning_rate': 3.769230769230769e-05, 'epoch': 1.23}\n",
      "{'loss': 0.0084, 'grad_norm': 0.3350844085216522, 'learning_rate': 3.7589743589743594e-05, 'epoch': 1.24}\n",
      "{'loss': 0.0189, 'grad_norm': 2.2086081504821777, 'learning_rate': 3.748717948717949e-05, 'epoch': 1.25}\n",
      "{'loss': 0.0175, 'grad_norm': 3.3504254817962646, 'learning_rate': 3.738461538461538e-05, 'epoch': 1.26}\n",
      "{'loss': 0.0289, 'grad_norm': 2.9488041400909424, 'learning_rate': 3.7282051282051285e-05, 'epoch': 1.27}\n",
      "{'loss': 0.0238, 'grad_norm': 0.11489520967006683, 'learning_rate': 3.717948717948718e-05, 'epoch': 1.28}\n",
      "{'loss': 0.011, 'grad_norm': 0.6292815804481506, 'learning_rate': 3.707692307692308e-05, 'epoch': 1.29}\n",
      "{'loss': 0.0248, 'grad_norm': 0.03293752670288086, 'learning_rate': 3.6974358974358975e-05, 'epoch': 1.3}\n",
      "{'loss': 0.0266, 'grad_norm': 2.7273101806640625, 'learning_rate': 3.6871794871794877e-05, 'epoch': 1.31}\n",
      "{'loss': 0.0511, 'grad_norm': 4.220890998840332, 'learning_rate': 3.676923076923077e-05, 'epoch': 1.32}\n",
      "{'loss': 0.0279, 'grad_norm': 1.230803370475769, 'learning_rate': 3.6666666666666666e-05, 'epoch': 1.33}\n",
      "{'loss': 0.0316, 'grad_norm': 0.16648679971694946, 'learning_rate': 3.656410256410257e-05, 'epoch': 1.34}\n",
      "{'loss': 0.0268, 'grad_norm': 3.32578444480896, 'learning_rate': 3.646153846153846e-05, 'epoch': 1.35}\n",
      "{'loss': 0.0253, 'grad_norm': 1.24380362033844, 'learning_rate': 3.635897435897436e-05, 'epoch': 1.36}\n",
      "{'loss': 0.0171, 'grad_norm': 4.352396011352539, 'learning_rate': 3.625641025641026e-05, 'epoch': 1.37}\n",
      "{'loss': 0.0182, 'grad_norm': 2.7033438682556152, 'learning_rate': 3.615384615384615e-05, 'epoch': 1.38}\n",
      "{'loss': 0.0091, 'grad_norm': 0.055545199662446976, 'learning_rate': 3.6051282051282054e-05, 'epoch': 1.39}\n",
      "{'loss': 0.0184, 'grad_norm': 0.19045525789260864, 'learning_rate': 3.5948717948717955e-05, 'epoch': 1.4}\n",
      "{'loss': 0.0051, 'grad_norm': 0.32173964381217957, 'learning_rate': 3.584615384615384e-05, 'epoch': 1.41}\n",
      "{'loss': 0.0388, 'grad_norm': 0.2866772711277008, 'learning_rate': 3.5743589743589744e-05, 'epoch': 1.42}\n",
      "{'loss': 0.0264, 'grad_norm': 1.034567952156067, 'learning_rate': 3.5641025641025646e-05, 'epoch': 1.44}\n",
      "{'loss': 0.0412, 'grad_norm': 0.08754876255989075, 'learning_rate': 3.553846153846154e-05, 'epoch': 1.45}\n",
      "{'loss': 0.0153, 'grad_norm': 1.0905832052230835, 'learning_rate': 3.5435897435897435e-05, 'epoch': 1.46}\n",
      "{'loss': 0.0243, 'grad_norm': 0.7399091124534607, 'learning_rate': 3.5333333333333336e-05, 'epoch': 1.47}\n",
      "{'loss': 0.0152, 'grad_norm': 2.9256722927093506, 'learning_rate': 3.523076923076923e-05, 'epoch': 1.48}\n",
      "{'loss': 0.0146, 'grad_norm': 0.3079676330089569, 'learning_rate': 3.5128205128205125e-05, 'epoch': 1.49}\n",
      "{'loss': 0.0234, 'grad_norm': 1.7415879964828491, 'learning_rate': 3.502564102564103e-05, 'epoch': 1.5}\n",
      "{'loss': 0.0054, 'grad_norm': 0.3831283152103424, 'learning_rate': 3.492307692307693e-05, 'epoch': 1.51}\n",
      "{'loss': 0.0297, 'grad_norm': 2.6420953273773193, 'learning_rate': 3.482051282051282e-05, 'epoch': 1.52}\n",
      "{'loss': 0.0531, 'grad_norm': 1.7726348638534546, 'learning_rate': 3.471794871794872e-05, 'epoch': 1.53}\n",
      "{'loss': 0.0479, 'grad_norm': 5.658530235290527, 'learning_rate': 3.461538461538462e-05, 'epoch': 1.54}\n",
      "{'loss': 0.0269, 'grad_norm': 3.064889907836914, 'learning_rate': 3.451282051282051e-05, 'epoch': 1.55}\n",
      "{'loss': 0.0154, 'grad_norm': 5.275579929351807, 'learning_rate': 3.4410256410256415e-05, 'epoch': 1.56}\n",
      "{'loss': 0.0223, 'grad_norm': 0.9502105712890625, 'learning_rate': 3.430769230769231e-05, 'epoch': 1.57}\n",
      "{'loss': 0.032, 'grad_norm': 3.3408241271972656, 'learning_rate': 3.4205128205128204e-05, 'epoch': 1.58}\n",
      "{'loss': 0.0198, 'grad_norm': 0.01202310062944889, 'learning_rate': 3.4102564102564105e-05, 'epoch': 1.59}\n",
      "{'loss': 0.029, 'grad_norm': 2.836132764816284, 'learning_rate': 3.4000000000000007e-05, 'epoch': 1.6}\n",
      "{'loss': 0.0198, 'grad_norm': 0.21692563593387604, 'learning_rate': 3.3897435897435894e-05, 'epoch': 1.61}\n",
      "{'loss': 0.0213, 'grad_norm': 1.9020953178405762, 'learning_rate': 3.3794871794871796e-05, 'epoch': 1.62}\n",
      "{'loss': 0.0228, 'grad_norm': 3.603816032409668, 'learning_rate': 3.36923076923077e-05, 'epoch': 1.63}\n",
      "{'loss': 0.0336, 'grad_norm': 0.43289563059806824, 'learning_rate': 3.358974358974359e-05, 'epoch': 1.64}\n",
      "{'loss': 0.0053, 'grad_norm': 0.43799322843551636, 'learning_rate': 3.3487179487179486e-05, 'epoch': 1.65}\n",
      "{'loss': 0.0209, 'grad_norm': 7.446793556213379, 'learning_rate': 3.338461538461539e-05, 'epoch': 1.66}\n",
      "{'loss': 0.0413, 'grad_norm': 4.821657657623291, 'learning_rate': 3.328205128205128e-05, 'epoch': 1.67}\n",
      "{'loss': 0.018, 'grad_norm': 4.944075107574463, 'learning_rate': 3.317948717948718e-05, 'epoch': 1.68}\n",
      "{'loss': 0.0143, 'grad_norm': 1.6414176225662231, 'learning_rate': 3.307692307692308e-05, 'epoch': 1.69}\n",
      "{'loss': 0.0449, 'grad_norm': 1.31203031539917, 'learning_rate': 3.297435897435898e-05, 'epoch': 1.7}\n",
      "{'loss': 0.0184, 'grad_norm': 6.2327141761779785, 'learning_rate': 3.2871794871794874e-05, 'epoch': 1.71}\n",
      "{'loss': 0.0525, 'grad_norm': 3.0866940021514893, 'learning_rate': 3.276923076923077e-05, 'epoch': 1.72}\n",
      "{'loss': 0.0222, 'grad_norm': 0.035999469459056854, 'learning_rate': 3.266666666666667e-05, 'epoch': 1.73}\n",
      "{'loss': 0.0196, 'grad_norm': 0.06544680893421173, 'learning_rate': 3.2564102564102565e-05, 'epoch': 1.74}\n",
      "{'loss': 0.0135, 'grad_norm': 0.05044807121157646, 'learning_rate': 3.2461538461538466e-05, 'epoch': 1.75}\n",
      "{'loss': 0.0021, 'grad_norm': 2.8909459114074707, 'learning_rate': 3.235897435897436e-05, 'epoch': 1.76}\n",
      "{'loss': 0.0116, 'grad_norm': 2.265132188796997, 'learning_rate': 3.2256410256410255e-05, 'epoch': 1.77}\n",
      "{'loss': 0.0407, 'grad_norm': 1.7649143934249878, 'learning_rate': 3.215384615384616e-05, 'epoch': 1.78}\n",
      "{'loss': 0.0572, 'grad_norm': 0.036357250064611435, 'learning_rate': 3.205128205128206e-05, 'epoch': 1.79}\n",
      "{'loss': 0.0029, 'grad_norm': 0.5421572327613831, 'learning_rate': 3.1948717948717946e-05, 'epoch': 1.8}\n",
      "{'loss': 0.0152, 'grad_norm': 2.8133277893066406, 'learning_rate': 3.184615384615385e-05, 'epoch': 1.81}\n",
      "{'loss': 0.0227, 'grad_norm': 0.07031790912151337, 'learning_rate': 3.174358974358975e-05, 'epoch': 1.82}\n",
      "{'loss': 0.0132, 'grad_norm': 0.15913233160972595, 'learning_rate': 3.164102564102564e-05, 'epoch': 1.84}\n",
      "{'loss': 0.0373, 'grad_norm': 1.4406063556671143, 'learning_rate': 3.153846153846154e-05, 'epoch': 1.85}\n",
      "{'loss': 0.0022, 'grad_norm': 0.8864145874977112, 'learning_rate': 3.143589743589744e-05, 'epoch': 1.86}\n",
      "{'loss': 0.0223, 'grad_norm': 0.016965338960289955, 'learning_rate': 3.1333333333333334e-05, 'epoch': 1.87}\n",
      "{'loss': 0.0489, 'grad_norm': 6.401661396026611, 'learning_rate': 3.123076923076923e-05, 'epoch': 1.88}\n",
      "{'loss': 0.0059, 'grad_norm': 0.6085734367370605, 'learning_rate': 3.112820512820513e-05, 'epoch': 1.89}\n",
      "{'loss': 0.0223, 'grad_norm': 1.0191818475723267, 'learning_rate': 3.102564102564103e-05, 'epoch': 1.9}\n",
      "{'loss': 0.0209, 'grad_norm': 1.7260769605636597, 'learning_rate': 3.0923076923076926e-05, 'epoch': 1.91}\n",
      "{'loss': 0.0021, 'grad_norm': 1.3705705404281616, 'learning_rate': 3.082051282051282e-05, 'epoch': 1.92}\n",
      "{'loss': 0.011, 'grad_norm': 0.07800129055976868, 'learning_rate': 3.071794871794872e-05, 'epoch': 1.93}\n",
      "{'loss': 0.0379, 'grad_norm': 1.9205361604690552, 'learning_rate': 3.0615384615384616e-05, 'epoch': 1.94}\n",
      "{'loss': 0.0346, 'grad_norm': 3.0327229499816895, 'learning_rate': 3.0512820512820518e-05, 'epoch': 1.95}\n",
      "{'loss': 0.0248, 'grad_norm': 2.6516640186309814, 'learning_rate': 3.041025641025641e-05, 'epoch': 1.96}\n",
      "{'loss': 0.026, 'grad_norm': 0.7778475284576416, 'learning_rate': 3.030769230769231e-05, 'epoch': 1.97}\n",
      "{'loss': 0.0143, 'grad_norm': 0.3169335722923279, 'learning_rate': 3.0205128205128208e-05, 'epoch': 1.98}\n",
      "{'loss': 0.0185, 'grad_norm': 0.2619977295398712, 'learning_rate': 3.0102564102564103e-05, 'epoch': 1.99}\n",
      "{'loss': 0.0423, 'grad_norm': 4.06955099105835, 'learning_rate': 3e-05, 'epoch': 2.0}\n"
     ]
    },
    {
     "data": {
      "application/vnd.jupyter.widget-view+json": {
       "model_id": "c03cd5d2ce25439ea88ca3f3edbfd486",
       "version_major": 2,
       "version_minor": 0
      },
      "text/plain": [
       "  0%|          | 0/128 [00:00<?, ?it/s]"
      ]
     },
     "metadata": {},
     "output_type": "display_data"
    },
    {
     "name": "stdout",
     "output_type": "stream",
     "text": [
      "{'eval_loss': 0.144891157746315, 'eval_accuracy': 0.9705882352941176, 'eval_f1': 0.9713740458015268, 'eval_precision': 0.9460966542750929, 'eval_recall': 0.9980392156862745, 'eval_runtime': 48.702, 'eval_samples_per_second': 20.944, 'eval_steps_per_second': 2.628, 'epoch': 2.0}\n",
      "{'loss': 0.0135, 'grad_norm': 0.08073705434799194, 'learning_rate': 2.98974358974359e-05, 'epoch': 2.01}\n",
      "{'loss': 0.0056, 'grad_norm': 0.7607877850532532, 'learning_rate': 2.9794871794871797e-05, 'epoch': 2.02}\n",
      "{'loss': 0.0095, 'grad_norm': 2.5929064750671387, 'learning_rate': 2.969230769230769e-05, 'epoch': 2.03}\n",
      "{'loss': 0.0233, 'grad_norm': 0.8164771199226379, 'learning_rate': 2.958974358974359e-05, 'epoch': 2.04}\n",
      "{'loss': 0.0017, 'grad_norm': 0.3717249035835266, 'learning_rate': 2.948717948717949e-05, 'epoch': 2.05}\n",
      "{'loss': 0.0202, 'grad_norm': 0.3227551281452179, 'learning_rate': 2.938461538461539e-05, 'epoch': 2.06}\n",
      "{'loss': 0.0204, 'grad_norm': 0.20356117188930511, 'learning_rate': 2.9282051282051283e-05, 'epoch': 2.07}\n",
      "{'loss': 0.004, 'grad_norm': 0.23704850673675537, 'learning_rate': 2.917948717948718e-05, 'epoch': 2.08}\n",
      "{'loss': 0.0065, 'grad_norm': 0.013280139304697514, 'learning_rate': 2.907692307692308e-05, 'epoch': 2.09}\n",
      "{'loss': 0.0107, 'grad_norm': 0.05298065394163132, 'learning_rate': 2.8974358974358977e-05, 'epoch': 2.1}\n",
      "{'loss': 0.007, 'grad_norm': 0.3740793764591217, 'learning_rate': 2.8871794871794872e-05, 'epoch': 2.11}\n",
      "{'loss': 0.0185, 'grad_norm': 0.7405505180358887, 'learning_rate': 2.876923076923077e-05, 'epoch': 2.12}\n",
      "{'loss': 0.0256, 'grad_norm': 0.024494076147675514, 'learning_rate': 2.8666666666666668e-05, 'epoch': 2.13}\n",
      "{'loss': 0.0136, 'grad_norm': 0.30821892619132996, 'learning_rate': 2.8564102564102562e-05, 'epoch': 2.14}\n",
      "{'loss': 0.0315, 'grad_norm': 0.19214677810668945, 'learning_rate': 2.846153846153846e-05, 'epoch': 2.15}\n",
      "{'loss': 0.0046, 'grad_norm': 0.9692550897598267, 'learning_rate': 2.8358974358974362e-05, 'epoch': 2.16}\n",
      "{'loss': 0.0426, 'grad_norm': 0.08817854523658752, 'learning_rate': 2.825641025641026e-05, 'epoch': 2.17}\n",
      "{'loss': 0.0146, 'grad_norm': 0.5299545526504517, 'learning_rate': 2.8153846153846154e-05, 'epoch': 2.18}\n",
      "{'loss': 0.0175, 'grad_norm': 0.7270776033401489, 'learning_rate': 2.8051282051282052e-05, 'epoch': 2.19}\n",
      "{'loss': 0.0166, 'grad_norm': 2.299917221069336, 'learning_rate': 2.794871794871795e-05, 'epoch': 2.2}\n",
      "{'loss': 0.012, 'grad_norm': 0.03558765724301338, 'learning_rate': 2.7846153846153848e-05, 'epoch': 2.21}\n",
      "{'loss': 0.0191, 'grad_norm': 0.106303371489048, 'learning_rate': 2.7743589743589743e-05, 'epoch': 2.22}\n",
      "{'loss': 0.0253, 'grad_norm': 1.8958768844604492, 'learning_rate': 2.764102564102564e-05, 'epoch': 2.23}\n",
      "{'loss': 0.0196, 'grad_norm': 1.2706209421157837, 'learning_rate': 2.7538461538461542e-05, 'epoch': 2.25}\n",
      "{'loss': 0.0183, 'grad_norm': 6.923268795013428, 'learning_rate': 2.743589743589744e-05, 'epoch': 2.26}\n",
      "{'loss': 0.0093, 'grad_norm': 3.4132044315338135, 'learning_rate': 2.733333333333333e-05, 'epoch': 2.27}\n",
      "{'loss': 0.006, 'grad_norm': 0.022074898704886436, 'learning_rate': 2.7230769230769233e-05, 'epoch': 2.28}\n",
      "{'loss': 0.0118, 'grad_norm': 4.840709209442139, 'learning_rate': 2.712820512820513e-05, 'epoch': 2.29}\n",
      "{'loss': 0.0143, 'grad_norm': 0.01154965441673994, 'learning_rate': 2.7025641025641025e-05, 'epoch': 2.3}\n",
      "{'loss': 0.0123, 'grad_norm': 0.009173965081572533, 'learning_rate': 2.6923076923076923e-05, 'epoch': 2.31}\n",
      "{'loss': 0.0141, 'grad_norm': 6.034954071044922, 'learning_rate': 2.682051282051282e-05, 'epoch': 2.32}\n",
      "{'loss': 0.0019, 'grad_norm': 1.4403908252716064, 'learning_rate': 2.671794871794872e-05, 'epoch': 2.33}\n",
      "{'loss': 0.0104, 'grad_norm': 0.0213332436978817, 'learning_rate': 2.6615384615384614e-05, 'epoch': 2.34}\n",
      "{'loss': 0.0238, 'grad_norm': 0.58052659034729, 'learning_rate': 2.6512820512820512e-05, 'epoch': 2.35}\n",
      "{'loss': 0.0401, 'grad_norm': 0.049059607088565826, 'learning_rate': 2.6410256410256413e-05, 'epoch': 2.36}\n",
      "{'loss': 0.0037, 'grad_norm': 1.9259053468704224, 'learning_rate': 2.630769230769231e-05, 'epoch': 2.37}\n",
      "{'loss': 0.0011, 'grad_norm': 0.0351845882833004, 'learning_rate': 2.6205128205128206e-05, 'epoch': 2.38}\n",
      "{'loss': 0.0108, 'grad_norm': 6.102168083190918, 'learning_rate': 2.6102564102564104e-05, 'epoch': 2.39}\n",
      "{'loss': 0.016, 'grad_norm': 0.16602082550525665, 'learning_rate': 2.6000000000000002e-05, 'epoch': 2.4}\n",
      "{'loss': 0.0104, 'grad_norm': 0.48760926723480225, 'learning_rate': 2.58974358974359e-05, 'epoch': 2.41}\n",
      "{'loss': 0.0331, 'grad_norm': 0.7234777212142944, 'learning_rate': 2.5794871794871794e-05, 'epoch': 2.42}\n",
      "{'loss': 0.018, 'grad_norm': 2.7769391536712646, 'learning_rate': 2.5692307692307692e-05, 'epoch': 2.43}\n",
      "{'loss': 0.0265, 'grad_norm': 2.6605899333953857, 'learning_rate': 2.5589743589743594e-05, 'epoch': 2.44}\n",
      "{'loss': 0.0289, 'grad_norm': 0.061030760407447815, 'learning_rate': 2.5487179487179492e-05, 'epoch': 2.45}\n",
      "{'loss': 0.0248, 'grad_norm': 2.748628854751587, 'learning_rate': 2.5384615384615383e-05, 'epoch': 2.46}\n",
      "{'loss': 0.014, 'grad_norm': 0.39263948798179626, 'learning_rate': 2.5282051282051284e-05, 'epoch': 2.47}\n",
      "{'loss': 0.0198, 'grad_norm': 3.0862624645233154, 'learning_rate': 2.5179487179487182e-05, 'epoch': 2.48}\n",
      "{'loss': 0.011, 'grad_norm': 1.1848353147506714, 'learning_rate': 2.5076923076923077e-05, 'epoch': 2.49}\n",
      "{'loss': 0.0092, 'grad_norm': 3.1174633502960205, 'learning_rate': 2.4974358974358975e-05, 'epoch': 2.5}\n",
      "{'loss': 0.0031, 'grad_norm': 0.48328161239624023, 'learning_rate': 2.4871794871794873e-05, 'epoch': 2.51}\n",
      "{'loss': 0.0283, 'grad_norm': 0.4529286026954651, 'learning_rate': 2.476923076923077e-05, 'epoch': 2.52}\n",
      "{'loss': 0.0276, 'grad_norm': 0.041531383991241455, 'learning_rate': 2.466666666666667e-05, 'epoch': 2.53}\n",
      "{'loss': 0.0264, 'grad_norm': 0.6814252734184265, 'learning_rate': 2.4564102564102563e-05, 'epoch': 2.54}\n",
      "{'loss': 0.0027, 'grad_norm': 0.07752316445112228, 'learning_rate': 2.4461538461538465e-05, 'epoch': 2.55}\n",
      "{'loss': 0.0066, 'grad_norm': 0.45702096819877625, 'learning_rate': 2.435897435897436e-05, 'epoch': 2.56}\n",
      "{'loss': 0.0283, 'grad_norm': 0.2536151707172394, 'learning_rate': 2.4256410256410257e-05, 'epoch': 2.57}\n",
      "{'loss': 0.0091, 'grad_norm': 0.5413763523101807, 'learning_rate': 2.4166666666666667e-05, 'epoch': 2.58}\n",
      "{'loss': 0.0159, 'grad_norm': 0.9871699810028076, 'learning_rate': 2.4064102564102565e-05, 'epoch': 2.59}\n",
      "{'loss': 0.0097, 'grad_norm': 4.6617937088012695, 'learning_rate': 2.3961538461538463e-05, 'epoch': 2.6}\n",
      "{'loss': 0.0207, 'grad_norm': 2.964390277862549, 'learning_rate': 2.385897435897436e-05, 'epoch': 2.61}\n",
      "{'loss': 0.0098, 'grad_norm': 0.003963319119066, 'learning_rate': 2.375641025641026e-05, 'epoch': 2.62}\n",
      "{'loss': 0.0152, 'grad_norm': 0.0269076619297266, 'learning_rate': 2.3653846153846153e-05, 'epoch': 2.63}\n",
      "{'loss': 0.0068, 'grad_norm': 4.61538028717041, 'learning_rate': 2.3551282051282055e-05, 'epoch': 2.64}\n",
      "{'loss': 0.0163, 'grad_norm': 0.13996775448322296, 'learning_rate': 2.344871794871795e-05, 'epoch': 2.66}\n",
      "{'loss': 0.0157, 'grad_norm': 1.2025364637374878, 'learning_rate': 2.3346153846153847e-05, 'epoch': 2.67}\n",
      "{'loss': 0.0009, 'grad_norm': 0.6535613536834717, 'learning_rate': 2.3243589743589745e-05, 'epoch': 2.68}\n",
      "{'loss': 0.0082, 'grad_norm': 0.16321326792240143, 'learning_rate': 2.3141025641025643e-05, 'epoch': 2.69}\n",
      "{'loss': 0.0232, 'grad_norm': 0.023886891081929207, 'learning_rate': 2.3038461538461538e-05, 'epoch': 2.7}\n",
      "{'loss': 0.046, 'grad_norm': 4.4687180519104, 'learning_rate': 2.293589743589744e-05, 'epoch': 2.71}\n",
      "{'loss': 0.0073, 'grad_norm': 4.986697196960449, 'learning_rate': 2.2833333333333334e-05, 'epoch': 2.72}\n",
      "{'loss': 0.029, 'grad_norm': 1.3745896816253662, 'learning_rate': 2.2743589743589743e-05, 'epoch': 2.73}\n",
      "{'loss': 0.045, 'grad_norm': 4.393706798553467, 'learning_rate': 2.264102564102564e-05, 'epoch': 2.74}\n",
      "{'loss': 0.0102, 'grad_norm': 0.4573085904121399, 'learning_rate': 2.253846153846154e-05, 'epoch': 2.75}\n",
      "{'loss': 0.022, 'grad_norm': 0.051910679787397385, 'learning_rate': 2.2435897435897437e-05, 'epoch': 2.76}\n",
      "{'loss': 0.0049, 'grad_norm': 0.15478071570396423, 'learning_rate': 2.2333333333333335e-05, 'epoch': 2.77}\n",
      "{'loss': 0.0164, 'grad_norm': 0.4867231547832489, 'learning_rate': 2.2230769230769233e-05, 'epoch': 2.78}\n",
      "{'loss': 0.0033, 'grad_norm': 3.1225297451019287, 'learning_rate': 2.2128205128205128e-05, 'epoch': 2.79}\n",
      "{'loss': 0.0239, 'grad_norm': 0.02165416069328785, 'learning_rate': 2.202564102564103e-05, 'epoch': 2.8}\n",
      "{'loss': 0.0043, 'grad_norm': 0.039077483117580414, 'learning_rate': 2.1923076923076924e-05, 'epoch': 2.81}\n",
      "{'loss': 0.0159, 'grad_norm': 0.22445562481880188, 'learning_rate': 2.1820512820512822e-05, 'epoch': 2.82}\n",
      "{'loss': 0.0056, 'grad_norm': 2.1068618297576904, 'learning_rate': 2.171794871794872e-05, 'epoch': 2.83}\n",
      "{'loss': 0.0021, 'grad_norm': 0.7334998250007629, 'learning_rate': 2.1615384615384614e-05, 'epoch': 2.84}\n",
      "{'loss': 0.0008, 'grad_norm': 0.00594656215980649, 'learning_rate': 2.1512820512820516e-05, 'epoch': 2.85}\n",
      "{'loss': 0.0063, 'grad_norm': 0.5174716114997864, 'learning_rate': 2.141025641025641e-05, 'epoch': 2.86}\n",
      "{'loss': 0.0072, 'grad_norm': 0.009694921784102917, 'learning_rate': 2.1307692307692308e-05, 'epoch': 2.87}\n",
      "{'loss': 0.0167, 'grad_norm': 0.9135488867759705, 'learning_rate': 2.1205128205128206e-05, 'epoch': 2.88}\n",
      "{'loss': 0.0084, 'grad_norm': 0.005685732699930668, 'learning_rate': 2.1102564102564104e-05, 'epoch': 2.89}\n",
      "{'loss': 0.0085, 'grad_norm': 0.006605169735848904, 'learning_rate': 2.1e-05, 'epoch': 2.9}\n",
      "{'loss': 0.0053, 'grad_norm': 1.1925113201141357, 'learning_rate': 2.08974358974359e-05, 'epoch': 2.91}\n",
      "{'loss': 0.017, 'grad_norm': 0.046466510742902756, 'learning_rate': 2.0794871794871795e-05, 'epoch': 2.92}\n",
      "{'loss': 0.0378, 'grad_norm': 4.578277587890625, 'learning_rate': 2.0692307692307693e-05, 'epoch': 2.93}\n",
      "{'loss': 0.0147, 'grad_norm': 0.2229958325624466, 'learning_rate': 2.058974358974359e-05, 'epoch': 2.94}\n",
      "{'loss': 0.0094, 'grad_norm': 5.927436828613281, 'learning_rate': 2.048717948717949e-05, 'epoch': 2.95}\n",
      "{'loss': 0.0336, 'grad_norm': 4.2822418212890625, 'learning_rate': 2.0384615384615387e-05, 'epoch': 2.96}\n",
      "{'loss': 0.0299, 'grad_norm': 3.239011287689209, 'learning_rate': 2.0282051282051285e-05, 'epoch': 2.97}\n",
      "{'loss': 0.0099, 'grad_norm': 4.482193946838379, 'learning_rate': 2.017948717948718e-05, 'epoch': 2.98}\n",
      "{'loss': 0.0109, 'grad_norm': 1.2332816123962402, 'learning_rate': 2.0076923076923077e-05, 'epoch': 2.99}\n"
     ]
    },
    {
     "data": {
      "application/vnd.jupyter.widget-view+json": {
       "model_id": "411234d5e9c04087a97c274bd2a5b565",
       "version_major": 2,
       "version_minor": 0
      },
      "text/plain": [
       "  0%|          | 0/128 [00:00<?, ?it/s]"
      ]
     },
     "metadata": {},
     "output_type": "display_data"
    },
    {
     "name": "stdout",
     "output_type": "stream",
     "text": [
      "{'eval_loss': 0.074783556163311, 'eval_accuracy': 0.9833333333333333, 'eval_f1': 0.9835748792270531, 'eval_precision': 0.9695238095238096, 'eval_recall': 0.9980392156862745, 'eval_runtime': 48.7688, 'eval_samples_per_second': 20.915, 'eval_steps_per_second': 2.625, 'epoch': 3.0}\n",
      "{'loss': 0.0014, 'grad_norm': 0.40378057956695557, 'learning_rate': 1.9974358974358975e-05, 'epoch': 3.0}\n",
      "{'loss': 0.0026, 'grad_norm': 0.03732137009501457, 'learning_rate': 1.987179487179487e-05, 'epoch': 3.01}\n",
      "{'loss': 0.0173, 'grad_norm': 0.39742687344551086, 'learning_rate': 1.976923076923077e-05, 'epoch': 3.02}\n",
      "{'loss': 0.0027, 'grad_norm': 0.9576666355133057, 'learning_rate': 1.9666666666666666e-05, 'epoch': 3.03}\n",
      "{'loss': 0.0047, 'grad_norm': 0.029697470366954803, 'learning_rate': 1.9564102564102564e-05, 'epoch': 3.04}\n",
      "{'loss': 0.0036, 'grad_norm': 3.3737826347351074, 'learning_rate': 1.9461538461538462e-05, 'epoch': 3.05}\n",
      "{'loss': 0.0094, 'grad_norm': 0.06182125583291054, 'learning_rate': 1.935897435897436e-05, 'epoch': 3.07}\n",
      "{'loss': 0.0033, 'grad_norm': 0.057748787105083466, 'learning_rate': 1.9256410256410258e-05, 'epoch': 3.08}\n",
      "{'loss': 0.0045, 'grad_norm': 0.0032560129184275866, 'learning_rate': 1.9153846153846156e-05, 'epoch': 3.09}\n",
      "{'loss': 0.0213, 'grad_norm': 0.04004518687725067, 'learning_rate': 1.905128205128205e-05, 'epoch': 3.1}\n",
      "{'loss': 0.0076, 'grad_norm': 4.93767786026001, 'learning_rate': 1.8948717948717952e-05, 'epoch': 3.11}\n",
      "{'loss': 0.0017, 'grad_norm': 0.013506675139069557, 'learning_rate': 1.8846153846153846e-05, 'epoch': 3.12}\n",
      "{'loss': 0.0014, 'grad_norm': 0.004721197299659252, 'learning_rate': 1.8743589743589744e-05, 'epoch': 3.13}\n",
      "{'loss': 0.0014, 'grad_norm': 0.04297426715493202, 'learning_rate': 1.8641025641025642e-05, 'epoch': 3.14}\n",
      "{'loss': 0.0093, 'grad_norm': 5.511953353881836, 'learning_rate': 1.853846153846154e-05, 'epoch': 3.15}\n",
      "{'loss': 0.0014, 'grad_norm': 0.08229833841323853, 'learning_rate': 1.8435897435897438e-05, 'epoch': 3.16}\n",
      "{'loss': 0.0167, 'grad_norm': 8.549019813537598, 'learning_rate': 1.8333333333333333e-05, 'epoch': 3.17}\n",
      "{'loss': 0.0097, 'grad_norm': 1.0739521980285645, 'learning_rate': 1.823076923076923e-05, 'epoch': 3.18}\n",
      "{'loss': 0.0129, 'grad_norm': 0.009971875697374344, 'learning_rate': 1.812820512820513e-05, 'epoch': 3.19}\n",
      "{'loss': 0.0038, 'grad_norm': 0.01278848946094513, 'learning_rate': 1.8025641025641027e-05, 'epoch': 3.2}\n",
      "{'loss': 0.0123, 'grad_norm': 6.1542558670043945, 'learning_rate': 1.792307692307692e-05, 'epoch': 3.21}\n",
      "{'loss': 0.0077, 'grad_norm': 0.013990483246743679, 'learning_rate': 1.7820512820512823e-05, 'epoch': 3.22}\n",
      "{'loss': 0.0006, 'grad_norm': 0.0042153713293373585, 'learning_rate': 1.7717948717948717e-05, 'epoch': 3.23}\n",
      "{'loss': 0.01, 'grad_norm': 0.01585872285068035, 'learning_rate': 1.7615384615384615e-05, 'epoch': 3.24}\n",
      "{'loss': 0.0009, 'grad_norm': 1.811703085899353, 'learning_rate': 1.7512820512820513e-05, 'epoch': 3.25}\n",
      "{'loss': 0.0005, 'grad_norm': 0.09297443926334381, 'learning_rate': 1.741025641025641e-05, 'epoch': 3.26}\n",
      "{'loss': 0.0046, 'grad_norm': 2.1271469593048096, 'learning_rate': 1.730769230769231e-05, 'epoch': 3.27}\n",
      "{'loss': 0.012, 'grad_norm': 0.7873482704162598, 'learning_rate': 1.7205128205128207e-05, 'epoch': 3.28}\n",
      "{'loss': 0.0107, 'grad_norm': 0.017437715083360672, 'learning_rate': 1.7102564102564102e-05, 'epoch': 3.29}\n",
      "{'loss': 0.0048, 'grad_norm': 0.007616233080625534, 'learning_rate': 1.7000000000000003e-05, 'epoch': 3.3}\n",
      "{'loss': 0.0107, 'grad_norm': 0.1847909688949585, 'learning_rate': 1.6897435897435898e-05, 'epoch': 3.31}\n",
      "{'loss': 0.0011, 'grad_norm': 0.018042756244540215, 'learning_rate': 1.6794871794871796e-05, 'epoch': 3.32}\n",
      "{'loss': 0.0117, 'grad_norm': 10.135825157165527, 'learning_rate': 1.6692307692307694e-05, 'epoch': 3.33}\n",
      "{'loss': 0.002, 'grad_norm': 0.008281740359961987, 'learning_rate': 1.658974358974359e-05, 'epoch': 3.34}\n",
      "{'loss': 0.0092, 'grad_norm': 0.002184906043112278, 'learning_rate': 1.648717948717949e-05, 'epoch': 3.35}\n",
      "{'loss': 0.0096, 'grad_norm': 0.003493393072858453, 'learning_rate': 1.6384615384615384e-05, 'epoch': 3.36}\n",
      "{'loss': 0.0009, 'grad_norm': 0.0010637716623023152, 'learning_rate': 1.6282051282051282e-05, 'epoch': 3.37}\n",
      "{'loss': 0.0009, 'grad_norm': 0.0010645105503499508, 'learning_rate': 1.617948717948718e-05, 'epoch': 3.38}\n",
      "{'loss': 0.0138, 'grad_norm': 0.03530850261449814, 'learning_rate': 1.607692307692308e-05, 'epoch': 3.39}\n",
      "{'loss': 0.0246, 'grad_norm': 0.05195765569806099, 'learning_rate': 1.5974358974358973e-05, 'epoch': 3.4}\n",
      "{'loss': 0.0164, 'grad_norm': 5.517322063446045, 'learning_rate': 1.5871794871794874e-05, 'epoch': 3.41}\n",
      "{'loss': 0.0007, 'grad_norm': 1.6169145107269287, 'learning_rate': 1.576923076923077e-05, 'epoch': 3.42}\n",
      "{'loss': 0.0213, 'grad_norm': 0.01889524608850479, 'learning_rate': 1.5666666666666667e-05, 'epoch': 3.43}\n",
      "{'loss': 0.0154, 'grad_norm': 0.008477472700178623, 'learning_rate': 1.5564102564102565e-05, 'epoch': 3.44}\n",
      "{'loss': 0.0083, 'grad_norm': 0.0995689406991005, 'learning_rate': 1.5461538461538463e-05, 'epoch': 3.45}\n",
      "{'loss': 0.0134, 'grad_norm': 5.913129806518555, 'learning_rate': 1.535897435897436e-05, 'epoch': 3.47}\n",
      "{'loss': 0.0056, 'grad_norm': 1.041089653968811, 'learning_rate': 1.5256410256410259e-05, 'epoch': 3.48}\n",
      "{'loss': 0.0147, 'grad_norm': 0.987214207649231, 'learning_rate': 1.5153846153846155e-05, 'epoch': 3.49}\n",
      "{'loss': 0.0095, 'grad_norm': 0.007964437827467918, 'learning_rate': 1.5051282051282051e-05, 'epoch': 3.5}\n",
      "{'loss': 0.0271, 'grad_norm': 5.745455741882324, 'learning_rate': 1.494871794871795e-05, 'epoch': 3.51}\n",
      "{'loss': 0.0208, 'grad_norm': 0.03882072493433952, 'learning_rate': 1.4846153846153846e-05, 'epoch': 3.52}\n",
      "{'loss': 0.013, 'grad_norm': 0.00895740557461977, 'learning_rate': 1.4743589743589745e-05, 'epoch': 3.53}\n",
      "{'loss': 0.0032, 'grad_norm': 0.69123774766922, 'learning_rate': 1.4641025641025642e-05, 'epoch': 3.54}\n",
      "{'loss': 0.0081, 'grad_norm': 1.5722002983093262, 'learning_rate': 1.453846153846154e-05, 'epoch': 3.55}\n",
      "{'loss': 0.0016, 'grad_norm': 4.262768745422363, 'learning_rate': 1.4435897435897436e-05, 'epoch': 3.56}\n",
      "{'loss': 0.0008, 'grad_norm': 0.005212843418121338, 'learning_rate': 1.4333333333333334e-05, 'epoch': 3.57}\n",
      "{'loss': 0.0003, 'grad_norm': 0.24647016823291779, 'learning_rate': 1.423076923076923e-05, 'epoch': 3.58}\n",
      "{'loss': 0.014, 'grad_norm': 1.5826139450073242, 'learning_rate': 1.412820512820513e-05, 'epoch': 3.59}\n",
      "{'loss': 0.0144, 'grad_norm': 0.5289173126220703, 'learning_rate': 1.4025641025641026e-05, 'epoch': 3.6}\n",
      "{'loss': 0.0051, 'grad_norm': 1.128936529159546, 'learning_rate': 1.3923076923076924e-05, 'epoch': 3.61}\n",
      "{'loss': 0.0042, 'grad_norm': 0.4332469403743744, 'learning_rate': 1.382051282051282e-05, 'epoch': 3.62}\n",
      "{'loss': 0.0064, 'grad_norm': 5.411377906799316, 'learning_rate': 1.371794871794872e-05, 'epoch': 3.63}\n",
      "{'loss': 0.0005, 'grad_norm': 0.03796350210905075, 'learning_rate': 1.3615384615384616e-05, 'epoch': 3.64}\n",
      "{'loss': 0.0084, 'grad_norm': 0.0028772689402103424, 'learning_rate': 1.3512820512820513e-05, 'epoch': 3.65}\n",
      "{'loss': 0.003, 'grad_norm': 1.9125059843063354, 'learning_rate': 1.341025641025641e-05, 'epoch': 3.66}\n",
      "{'loss': 0.0017, 'grad_norm': 0.5508757829666138, 'learning_rate': 1.3307692307692307e-05, 'epoch': 3.67}\n",
      "{'loss': 0.007, 'grad_norm': 0.2510523498058319, 'learning_rate': 1.3205128205128207e-05, 'epoch': 3.68}\n",
      "{'loss': 0.0108, 'grad_norm': 0.09879196435213089, 'learning_rate': 1.3102564102564103e-05, 'epoch': 3.69}\n",
      "{'loss': 0.0146, 'grad_norm': 0.07546010613441467, 'learning_rate': 1.3000000000000001e-05, 'epoch': 3.7}\n",
      "{'loss': 0.008, 'grad_norm': 0.0017298742895945907, 'learning_rate': 1.2897435897435897e-05, 'epoch': 3.71}\n",
      "{'loss': 0.0018, 'grad_norm': 0.0033695788588374853, 'learning_rate': 1.2794871794871797e-05, 'epoch': 3.72}\n",
      "{'loss': 0.0043, 'grad_norm': 9.04793643951416, 'learning_rate': 1.2692307692307691e-05, 'epoch': 3.73}\n",
      "{'loss': 0.0014, 'grad_norm': 0.009136252105236053, 'learning_rate': 1.2589743589743591e-05, 'epoch': 3.74}\n",
      "{'loss': 0.0213, 'grad_norm': 6.361238956451416, 'learning_rate': 1.2487179487179487e-05, 'epoch': 3.75}\n",
      "{'loss': 0.0005, 'grad_norm': 0.01696874015033245, 'learning_rate': 1.2384615384615385e-05, 'epoch': 3.76}\n",
      "{'loss': 0.0181, 'grad_norm': 0.02493560127913952, 'learning_rate': 1.2282051282051282e-05, 'epoch': 3.77}\n",
      "{'loss': 0.0006, 'grad_norm': 0.002750903367996216, 'learning_rate': 1.217948717948718e-05, 'epoch': 3.78}\n",
      "{'loss': 0.0063, 'grad_norm': 0.10383512824773788, 'learning_rate': 1.2076923076923078e-05, 'epoch': 3.79}\n",
      "{'loss': 0.0011, 'grad_norm': 0.008827310986816883, 'learning_rate': 1.1974358974358976e-05, 'epoch': 3.8}\n",
      "{'loss': 0.0122, 'grad_norm': 1.6514792442321777, 'learning_rate': 1.1871794871794872e-05, 'epoch': 3.81}\n",
      "{'loss': 0.0467, 'grad_norm': 9.64470386505127, 'learning_rate': 1.176923076923077e-05, 'epoch': 3.82}\n",
      "{'loss': 0.0119, 'grad_norm': 0.24686852097511292, 'learning_rate': 1.1666666666666668e-05, 'epoch': 3.83}\n",
      "{'loss': 0.0082, 'grad_norm': 0.3507692217826843, 'learning_rate': 1.1564102564102564e-05, 'epoch': 3.84}\n",
      "{'loss': 0.0103, 'grad_norm': 2.220308780670166, 'learning_rate': 1.1461538461538462e-05, 'epoch': 3.85}\n",
      "{'loss': 0.0022, 'grad_norm': 0.0647444874048233, 'learning_rate': 1.135897435897436e-05, 'epoch': 3.86}\n",
      "{'loss': 0.0019, 'grad_norm': 1.6539913415908813, 'learning_rate': 1.1256410256410258e-05, 'epoch': 3.88}\n",
      "{'loss': 0.0014, 'grad_norm': 0.016736498102545738, 'learning_rate': 1.1153846153846154e-05, 'epoch': 3.89}\n",
      "{'loss': 0.0043, 'grad_norm': 0.2447480857372284, 'learning_rate': 1.105128205128205e-05, 'epoch': 3.9}\n",
      "{'loss': 0.0006, 'grad_norm': 0.028789907693862915, 'learning_rate': 1.0948717948717949e-05, 'epoch': 3.91}\n",
      "{'loss': 0.0095, 'grad_norm': 4.981488227844238, 'learning_rate': 1.0846153846153847e-05, 'epoch': 3.92}\n",
      "{'loss': 0.003, 'grad_norm': 5.378037452697754, 'learning_rate': 1.0743589743589743e-05, 'epoch': 3.93}\n",
      "{'loss': 0.0085, 'grad_norm': 1.3632409572601318, 'learning_rate': 1.0641025641025641e-05, 'epoch': 3.94}\n",
      "{'loss': 0.0022, 'grad_norm': 0.002962406724691391, 'learning_rate': 1.0538461538461539e-05, 'epoch': 3.95}\n",
      "{'loss': 0.0144, 'grad_norm': 0.0066335927695035934, 'learning_rate': 1.0435897435897437e-05, 'epoch': 3.96}\n",
      "{'loss': 0.0185, 'grad_norm': 0.01037471741437912, 'learning_rate': 1.0333333333333333e-05, 'epoch': 3.97}\n",
      "{'loss': 0.0089, 'grad_norm': 0.019175617024302483, 'learning_rate': 1.0230769230769231e-05, 'epoch': 3.98}\n",
      "{'loss': 0.001, 'grad_norm': 0.004781642928719521, 'learning_rate': 1.012820512820513e-05, 'epoch': 3.99}\n",
      "{'loss': 0.0232, 'grad_norm': 7.262232303619385, 'learning_rate': 1.0025641025641025e-05, 'epoch': 4.0}\n"
     ]
    },
    {
     "data": {
      "application/vnd.jupyter.widget-view+json": {
       "model_id": "37c7ff7296934a14857adc0ccad7868f",
       "version_major": 2,
       "version_minor": 0
      },
      "text/plain": [
       "  0%|          | 0/128 [00:00<?, ?it/s]"
      ]
     },
     "metadata": {},
     "output_type": "display_data"
    },
    {
     "name": "stdout",
     "output_type": "stream",
     "text": [
      "{'eval_loss': 0.18089893460273743, 'eval_accuracy': 0.9725490196078431, 'eval_f1': 0.9732313575525813, 'eval_precision': 0.9496268656716418, 'eval_recall': 0.9980392156862745, 'eval_runtime': 48.9245, 'eval_samples_per_second': 20.848, 'eval_steps_per_second': 2.616, 'epoch': 4.0}\n",
      "{'loss': 0.0027, 'grad_norm': 2.871208906173706, 'learning_rate': 9.923076923076923e-06, 'epoch': 4.01}\n",
      "{'loss': 0.0079, 'grad_norm': 0.2777670621871948, 'learning_rate': 9.820512820512821e-06, 'epoch': 4.02}\n",
      "{'loss': 0.003, 'grad_norm': 0.006265921052545309, 'learning_rate': 9.71794871794872e-06, 'epoch': 4.03}\n",
      "{'loss': 0.0053, 'grad_norm': 0.006836553569883108, 'learning_rate': 9.615384615384616e-06, 'epoch': 4.04}\n",
      "{'loss': 0.0085, 'grad_norm': 0.0829005166888237, 'learning_rate': 9.512820512820514e-06, 'epoch': 4.05}\n",
      "{'loss': 0.0019, 'grad_norm': 4.503619194030762, 'learning_rate': 9.41025641025641e-06, 'epoch': 4.06}\n",
      "{'loss': 0.0005, 'grad_norm': 0.07351597398519516, 'learning_rate': 9.307692307692308e-06, 'epoch': 4.07}\n",
      "{'loss': 0.0008, 'grad_norm': 0.09758642315864563, 'learning_rate': 9.205128205128204e-06, 'epoch': 4.08}\n",
      "{'loss': 0.0092, 'grad_norm': 0.10625829547643661, 'learning_rate': 9.102564102564102e-06, 'epoch': 4.09}\n",
      "{'loss': 0.0017, 'grad_norm': 0.016863232478499413, 'learning_rate': 9e-06, 'epoch': 4.1}\n",
      "{'loss': 0.0077, 'grad_norm': 0.007029409985989332, 'learning_rate': 8.897435897435898e-06, 'epoch': 4.11}\n",
      "{'loss': 0.0002, 'grad_norm': 0.016563063487410545, 'learning_rate': 8.794871794871795e-06, 'epoch': 4.12}\n",
      "{'loss': 0.0056, 'grad_norm': 0.0031841362360864878, 'learning_rate': 8.692307692307692e-06, 'epoch': 4.13}\n",
      "{'loss': 0.0035, 'grad_norm': 1.4215319156646729, 'learning_rate': 8.58974358974359e-06, 'epoch': 4.14}\n",
      "{'loss': 0.0002, 'grad_norm': 0.016868939623236656, 'learning_rate': 8.487179487179488e-06, 'epoch': 4.15}\n",
      "{'loss': 0.0011, 'grad_norm': 1.2051656246185303, 'learning_rate': 8.384615384615385e-06, 'epoch': 4.16}\n",
      "{'loss': 0.002, 'grad_norm': 0.007730143144726753, 'learning_rate': 8.282051282051283e-06, 'epoch': 4.17}\n",
      "{'loss': 0.0062, 'grad_norm': 0.013831483200192451, 'learning_rate': 8.17948717948718e-06, 'epoch': 4.18}\n",
      "{'loss': 0.0014, 'grad_norm': 0.010074058547616005, 'learning_rate': 8.076923076923077e-06, 'epoch': 4.19}\n",
      "{'loss': 0.0035, 'grad_norm': 0.20465894043445587, 'learning_rate': 7.974358974358975e-06, 'epoch': 4.2}\n",
      "{'loss': 0.0038, 'grad_norm': 0.0028242887929081917, 'learning_rate': 7.871794871794873e-06, 'epoch': 4.21}\n",
      "{'loss': 0.0036, 'grad_norm': 0.0012108800001442432, 'learning_rate': 7.76923076923077e-06, 'epoch': 4.22}\n",
      "{'loss': 0.0101, 'grad_norm': 0.07341913878917694, 'learning_rate': 7.666666666666667e-06, 'epoch': 4.23}\n",
      "{'loss': 0.0142, 'grad_norm': 0.0026340894401073456, 'learning_rate': 7.564102564102564e-06, 'epoch': 4.24}\n",
      "{'loss': 0.0028, 'grad_norm': 4.447467803955078, 'learning_rate': 7.4615384615384615e-06, 'epoch': 4.25}\n",
      "{'loss': 0.0006, 'grad_norm': 0.0068146237172186375, 'learning_rate': 7.358974358974359e-06, 'epoch': 4.26}\n",
      "{'loss': 0.018, 'grad_norm': 0.004887335002422333, 'learning_rate': 7.256410256410257e-06, 'epoch': 4.27}\n",
      "{'loss': 0.0094, 'grad_norm': 0.012587910518050194, 'learning_rate': 7.153846153846154e-06, 'epoch': 4.29}\n",
      "{'loss': 0.0081, 'grad_norm': 0.0026822721119970083, 'learning_rate': 7.051282051282052e-06, 'epoch': 4.3}\n",
      "{'loss': 0.0012, 'grad_norm': 1.7639222145080566, 'learning_rate': 6.948717948717949e-06, 'epoch': 4.31}\n",
      "{'loss': 0.0007, 'grad_norm': 1.0635020732879639, 'learning_rate': 6.846153846153847e-06, 'epoch': 4.32}\n",
      "{'loss': 0.014, 'grad_norm': 5.255335330963135, 'learning_rate': 6.743589743589744e-06, 'epoch': 4.33}\n",
      "{'loss': 0.0019, 'grad_norm': 0.018072379752993584, 'learning_rate': 6.641025641025642e-06, 'epoch': 4.34}\n",
      "{'loss': 0.0002, 'grad_norm': 0.01753179356455803, 'learning_rate': 6.538461538461539e-06, 'epoch': 4.35}\n",
      "{'loss': 0.0009, 'grad_norm': 0.012108051218092442, 'learning_rate': 6.435897435897436e-06, 'epoch': 4.36}\n",
      "{'loss': 0.0013, 'grad_norm': 0.7025840282440186, 'learning_rate': 6.333333333333334e-06, 'epoch': 4.37}\n",
      "{'loss': 0.0002, 'grad_norm': 0.0017108572646975517, 'learning_rate': 6.230769230769231e-06, 'epoch': 4.38}\n",
      "{'loss': 0.0042, 'grad_norm': 0.04441411793231964, 'learning_rate': 6.1282051282051285e-06, 'epoch': 4.39}\n",
      "{'loss': 0.0098, 'grad_norm': 0.005912355147302151, 'learning_rate': 6.025641025641026e-06, 'epoch': 4.4}\n",
      "{'loss': 0.0188, 'grad_norm': 0.02767050638794899, 'learning_rate': 5.923076923076924e-06, 'epoch': 4.41}\n",
      "{'loss': 0.0012, 'grad_norm': 0.011580610647797585, 'learning_rate': 5.820512820512821e-06, 'epoch': 4.42}\n",
      "{'loss': 0.0082, 'grad_norm': 0.0007585156126879156, 'learning_rate': 5.717948717948718e-06, 'epoch': 4.43}\n",
      "{'loss': 0.016, 'grad_norm': 1.4233382940292358, 'learning_rate': 5.615384615384615e-06, 'epoch': 4.44}\n",
      "{'loss': 0.002, 'grad_norm': 4.514246463775635, 'learning_rate': 5.512820512820513e-06, 'epoch': 4.45}\n",
      "{'loss': 0.001, 'grad_norm': 0.2096862643957138, 'learning_rate': 5.41025641025641e-06, 'epoch': 4.46}\n",
      "{'loss': 0.0005, 'grad_norm': 0.0016150764422491193, 'learning_rate': 5.307692307692308e-06, 'epoch': 4.47}\n",
      "{'loss': 0.0075, 'grad_norm': 0.002526420634239912, 'learning_rate': 5.205128205128205e-06, 'epoch': 4.48}\n",
      "{'loss': 0.0034, 'grad_norm': 5.960982799530029, 'learning_rate': 5.102564102564103e-06, 'epoch': 4.49}\n",
      "{'loss': 0.0052, 'grad_norm': 0.28694993257522583, 'learning_rate': 5e-06, 'epoch': 4.5}\n",
      "{'loss': 0.0028, 'grad_norm': 0.06181357055902481, 'learning_rate': 4.8974358974358975e-06, 'epoch': 4.51}\n",
      "{'loss': 0.002, 'grad_norm': 0.003937957808375359, 'learning_rate': 4.794871794871795e-06, 'epoch': 4.52}\n",
      "{'loss': 0.0017, 'grad_norm': 0.009979958645999432, 'learning_rate': 4.692307692307693e-06, 'epoch': 4.53}\n",
      "{'loss': 0.0259, 'grad_norm': 7.579639911651611, 'learning_rate': 4.58974358974359e-06, 'epoch': 4.54}\n",
      "{'loss': 0.0163, 'grad_norm': 0.270682156085968, 'learning_rate': 4.487179487179488e-06, 'epoch': 4.55}\n",
      "{'loss': 0.0017, 'grad_norm': 0.0485580712556839, 'learning_rate': 4.384615384615385e-06, 'epoch': 4.56}\n",
      "{'loss': 0.0041, 'grad_norm': 0.02220931276679039, 'learning_rate': 4.282051282051282e-06, 'epoch': 4.57}\n",
      "{'loss': 0.0006, 'grad_norm': 0.06345710158348083, 'learning_rate': 4.17948717948718e-06, 'epoch': 4.58}\n",
      "{'loss': 0.0004, 'grad_norm': 0.004633564967662096, 'learning_rate': 4.076923076923077e-06, 'epoch': 4.59}\n",
      "{'loss': 0.0013, 'grad_norm': 0.015333203598856926, 'learning_rate': 3.974358974358974e-06, 'epoch': 4.6}\n",
      "{'loss': 0.0036, 'grad_norm': 2.2752435207366943, 'learning_rate': 3.8717948717948715e-06, 'epoch': 4.61}\n",
      "{'loss': 0.015, 'grad_norm': 0.07158301770687103, 'learning_rate': 3.7692307692307694e-06, 'epoch': 4.62}\n",
      "{'loss': 0.0009, 'grad_norm': 0.017307311296463013, 'learning_rate': 3.666666666666667e-06, 'epoch': 4.63}\n",
      "{'loss': 0.0164, 'grad_norm': 2.792534112930298, 'learning_rate': 3.5641025641025646e-06, 'epoch': 4.64}\n",
      "{'loss': 0.0005, 'grad_norm': 0.005558828357607126, 'learning_rate': 3.4615384615384617e-06, 'epoch': 4.65}\n",
      "{'loss': 0.0018, 'grad_norm': 3.1348531246185303, 'learning_rate': 3.3589743589743593e-06, 'epoch': 4.66}\n",
      "{'loss': 0.0143, 'grad_norm': 0.820585310459137, 'learning_rate': 3.2564102564102564e-06, 'epoch': 4.67}\n",
      "{'loss': 0.0007, 'grad_norm': 0.6877791285514832, 'learning_rate': 3.153846153846154e-06, 'epoch': 4.68}\n",
      "{'loss': 0.0043, 'grad_norm': 3.4938805103302, 'learning_rate': 3.051282051282051e-06, 'epoch': 4.7}\n",
      "{'loss': 0.0077, 'grad_norm': 2.1161036491394043, 'learning_rate': 2.9487179487179486e-06, 'epoch': 4.71}\n",
      "{'loss': 0.0006, 'grad_norm': 0.0067869918420910835, 'learning_rate': 2.846153846153846e-06, 'epoch': 4.72}\n",
      "{'loss': 0.0162, 'grad_norm': 0.15232621133327484, 'learning_rate': 2.7435897435897438e-06, 'epoch': 4.73}\n",
      "{'loss': 0.0022, 'grad_norm': 0.0029826811514794827, 'learning_rate': 2.641025641025641e-06, 'epoch': 4.74}\n",
      "{'loss': 0.0134, 'grad_norm': 0.0056244623847305775, 'learning_rate': 2.5384615384615385e-06, 'epoch': 4.75}\n",
      "{'loss': 0.018, 'grad_norm': 0.004226017277687788, 'learning_rate': 2.435897435897436e-06, 'epoch': 4.76}\n",
      "{'loss': 0.0012, 'grad_norm': 0.07736056298017502, 'learning_rate': 2.3333333333333336e-06, 'epoch': 4.77}\n",
      "{'loss': 0.0005, 'grad_norm': 0.49797090888023376, 'learning_rate': 2.2307692307692307e-06, 'epoch': 4.78}\n",
      "{'loss': 0.0002, 'grad_norm': 0.0018669210840016603, 'learning_rate': 2.1282051282051283e-06, 'epoch': 4.79}\n",
      "{'loss': 0.0198, 'grad_norm': 6.7266845703125, 'learning_rate': 2.025641025641026e-06, 'epoch': 4.8}\n",
      "{'loss': 0.0003, 'grad_norm': 0.014182432554662228, 'learning_rate': 1.9230769230769234e-06, 'epoch': 4.81}\n",
      "{'loss': 0.0059, 'grad_norm': 0.023677896708250046, 'learning_rate': 1.8205128205128205e-06, 'epoch': 4.82}\n",
      "{'loss': 0.0031, 'grad_norm': 4.559816837310791, 'learning_rate': 1.7179487179487179e-06, 'epoch': 4.83}\n",
      "{'loss': 0.0045, 'grad_norm': 0.012115253135561943, 'learning_rate': 1.6153846153846154e-06, 'epoch': 4.84}\n",
      "{'loss': 0.0009, 'grad_norm': 0.0907972902059555, 'learning_rate': 1.5128205128205128e-06, 'epoch': 4.85}\n",
      "{'loss': 0.0009, 'grad_norm': 0.03222580626606941, 'learning_rate': 1.4102564102564104e-06, 'epoch': 4.86}\n",
      "{'loss': 0.007, 'grad_norm': 0.5341793298721313, 'learning_rate': 1.3076923076923077e-06, 'epoch': 4.87}\n",
      "{'loss': 0.0024, 'grad_norm': 0.011805676855146885, 'learning_rate': 1.2051282051282053e-06, 'epoch': 4.88}\n",
      "{'loss': 0.0041, 'grad_norm': 0.004224597010761499, 'learning_rate': 1.1025641025641026e-06, 'epoch': 4.89}\n",
      "{'loss': 0.0046, 'grad_norm': 0.001977567793801427, 'learning_rate': 1.0000000000000002e-06, 'epoch': 4.9}\n",
      "{'loss': 0.0002, 'grad_norm': 0.023612603545188904, 'learning_rate': 8.974358974358974e-07, 'epoch': 4.91}\n",
      "{'loss': 0.0002, 'grad_norm': 0.165432408452034, 'learning_rate': 7.94871794871795e-07, 'epoch': 4.92}\n",
      "{'loss': 0.0101, 'grad_norm': 5.172800064086914, 'learning_rate': 6.923076923076923e-07, 'epoch': 4.93}\n",
      "{'loss': 0.0113, 'grad_norm': 0.2557826042175293, 'learning_rate': 5.897435897435898e-07, 'epoch': 4.94}\n",
      "{'loss': 0.0018, 'grad_norm': 3.0764589309692383, 'learning_rate': 4.871794871794872e-07, 'epoch': 4.95}\n",
      "{'loss': 0.0079, 'grad_norm': 1.3348804712295532, 'learning_rate': 3.846153846153847e-07, 'epoch': 4.96}\n",
      "{'loss': 0.0063, 'grad_norm': 0.6150208115577698, 'learning_rate': 2.820512820512821e-07, 'epoch': 4.97}\n",
      "{'loss': 0.0005, 'grad_norm': 0.0068966904655098915, 'learning_rate': 1.794871794871795e-07, 'epoch': 4.98}\n",
      "{'loss': 0.0097, 'grad_norm': 0.028481869027018547, 'learning_rate': 7.692307692307692e-08, 'epoch': 4.99}\n"
     ]
    },
    {
     "data": {
      "application/vnd.jupyter.widget-view+json": {
       "model_id": "d1b409bdd0b54bd19b6f30cda1a53556",
       "version_major": 2,
       "version_minor": 0
      },
      "text/plain": [
       "  0%|          | 0/128 [00:00<?, ?it/s]"
      ]
     },
     "metadata": {},
     "output_type": "display_data"
    },
    {
     "name": "stdout",
     "output_type": "stream",
     "text": [
      "{'eval_loss': 0.13133424520492554, 'eval_accuracy': 0.9784313725490196, 'eval_f1': 0.9788461538461538, 'eval_precision': 0.960377358490566, 'eval_recall': 0.9980392156862745, 'eval_runtime': 48.1612, 'eval_samples_per_second': 21.179, 'eval_steps_per_second': 2.658, 'epoch': 5.0}\n",
      "{'train_runtime': 10681.1667, 'train_samples_per_second': 23.378, 'train_steps_per_second': 0.365, 'train_loss': 0.024229471454253564, 'epoch': 5.0}\n"
     ]
    },
    {
     "data": {
      "text/plain": [
       "TrainOutput(global_step=3900, training_loss=0.024229471454253564, metrics={'train_runtime': 10681.1667, 'train_samples_per_second': 23.378, 'train_steps_per_second': 0.365, 'total_flos': 2.3259515738485555e+17, 'train_loss': 0.024229471454253564, 'epoch': 4.997597308986064})"
      ]
     },
     "execution_count": 12,
     "metadata": {},
     "output_type": "execute_result"
    }
   ],
   "source": [
    "trainer.train()"
   ]
  },
  {
   "cell_type": "code",
   "execution_count": 7,
   "metadata": {},
   "outputs": [],
   "source": [
    "test_data = pd.read_csv('../data/test_data/trail.csv')"
   ]
  },
  {
   "cell_type": "code",
   "execution_count": 10,
   "metadata": {},
   "outputs": [
    {
     "data": {
      "application/vnd.jupyter.widget-view+json": {
       "model_id": "d94a318276774ca5a7425e8d2754c78d",
       "version_major": 2,
       "version_minor": 0
      },
      "text/plain": [
       "Map:   0%|          | 0/7 [00:00<?, ? examples/s]"
      ]
     },
     "metadata": {},
     "output_type": "display_data"
    }
   ],
   "source": [
    "test_dataset = datasets.Dataset.from_dict({'text': test_data['text'].values, 'labels': test_data['label'].values})\n",
    "\n",
    "def tokenization(batched_text):\n",
    "    return tokenizer(batched_text['text'], padding=True, truncation=True)\n",
    "\n",
    "test_dataset = test_dataset.map(tokenization, batched=True, batch_size=128)\n",
    "test_dataset.set_format('torch', columns=['input_ids', 'attention_mask', 'labels'])"
   ]
  },
  {
   "cell_type": "code",
   "execution_count": 51,
   "metadata": {},
   "outputs": [
    {
     "name": "stdout",
     "output_type": "stream",
     "text": [
      "Trainable parameters: 355,361,794\n",
      "Non-trainable parameters: 0\n",
      "Trainable parameters: 355,361,794\n",
      "Non-trainable parameters: 0\n"
     ]
    }
   ],
   "source": [
    "model = RobertaForSequenceClassification.from_pretrained('../data/models/roberta_large_model_checkpoint/checkpoint-3900')\n",
    "\n",
    "trainable_params, non_trainable_params = count_parameters(model)\n",
    "print(f\"Trainable parameters: {trainable_params:,}\")\n",
    "print(f\"Non-trainable parameters: {non_trainable_params:,}\")\n",
    "\n",
    "for param in model.parameters():\n",
    "    param.requires_grad = True\n",
    "\n",
    "trainable_params, non_trainable_params = count_parameters(model)\n",
    "print(f\"Trainable parameters: {trainable_params:,}\")\n",
    "print(f\"Non-trainable parameters: {non_trainable_params:,}\")"
   ]
  },
  {
   "cell_type": "code",
   "execution_count": 52,
   "metadata": {},
   "outputs": [],
   "source": [
    "trainer = Trainer(model=model, compute_metrics=compute_metrics)"
   ]
  },
  {
   "cell_type": "code",
   "execution_count": 53,
   "metadata": {},
   "outputs": [
    {
     "data": {
      "application/vnd.jupyter.widget-view+json": {
       "model_id": "6baa5468688a4f6b80dfb3d2763dce48",
       "version_major": 2,
       "version_minor": 0
      },
      "text/plain": [
       "  0%|          | 0/5 [00:00<?, ?it/s]"
      ]
     },
     "metadata": {},
     "output_type": "display_data"
    },
    {
     "data": {
      "text/plain": [
       "{'test_loss': 0.44105520844459534,\n",
       " 'test_accuracy': 0.925,\n",
       " 'test_f1': 0.926829268292683,\n",
       " 'test_precision': 0.9047619047619048,\n",
       " 'test_recall': 0.95,\n",
       " 'test_runtime': 2.6514,\n",
       " 'test_samples_per_second': 15.087,\n",
       " 'test_steps_per_second': 1.886}"
      ]
     },
     "execution_count": 53,
     "metadata": {},
     "output_type": "execute_result"
    }
   ],
   "source": [
    "trainer.evaluate(test_dataset, metric_key_prefix='test')"
   ]
  },
  {
   "cell_type": "code",
   "execution_count": 54,
   "metadata": {},
   "outputs": [
    {
     "data": {
      "application/vnd.jupyter.widget-view+json": {
       "model_id": "7f1c2c9c2fc6466dbaa04a6de1963a92",
       "version_major": 2,
       "version_minor": 0
      },
      "text/plain": [
       "  0%|          | 0/240 [00:00<?, ?it/s]"
      ]
     },
     "metadata": {},
     "output_type": "display_data"
    },
    {
     "data": {
      "text/plain": [
       "{'train_loss': 0.2171945869922638,\n",
       " 'train_accuracy': 0.9671875,\n",
       " 'train_f1': 0.967067433350758,\n",
       " 'train_precision': 0.9706190975865687,\n",
       " 'train_recall': 0.9635416666666666,\n",
       " 'train_runtime': 123.8822,\n",
       " 'train_samples_per_second': 15.499,\n",
       " 'train_steps_per_second': 1.937}"
      ]
     },
     "execution_count": 54,
     "metadata": {},
     "output_type": "execute_result"
    }
   ],
   "source": [
    "trainer.evaluate(train_dataset, metric_key_prefix='train')"
   ]
  },
  {
   "cell_type": "code",
   "execution_count": 16,
   "metadata": {},
   "outputs": [
    {
     "data": {
      "application/vnd.jupyter.widget-view+json": {
       "model_id": "7379512a53bb4e86a7719097542e273b",
       "version_major": 2,
       "version_minor": 0
      },
      "text/plain": [
       "  0%|          | 0/1 [00:00<?, ?it/s]"
      ]
     },
     "metadata": {},
     "output_type": "display_data"
    },
    {
     "data": {
      "text/plain": [
       "PredictionOutput(predictions=array([[-0.86542106,  1.0865637 ],\n",
       "       [ 2.1196542 , -1.585902  ],\n",
       "       [-5.4527307 ,  5.5017896 ],\n",
       "       [ 4.8288474 , -4.494965  ],\n",
       "       [-2.2739596 ,  2.325448  ],\n",
       "       [-5.4020505 ,  5.5328875 ],\n",
       "       [ 5.023696  , -4.657509  ]], dtype=float32), label_ids=array([1, 0, 1, 0, 1, 1, 0], dtype=int64), metrics={'test_loss': 0.023893997073173523, 'test_accuracy': 1.0, 'test_f1': 1.0, 'test_precision': 1.0, 'test_recall': 1.0, 'test_runtime': 0.4375, 'test_samples_per_second': 16.001, 'test_steps_per_second': 2.286})"
      ]
     },
     "execution_count": 16,
     "metadata": {},
     "output_type": "execute_result"
    }
   ],
   "source": [
    "trainer.predict(test_dataset)"
   ]
  },
  {
   "cell_type": "code",
   "execution_count": 17,
   "metadata": {},
   "outputs": [
    {
     "data": {
      "text/plain": [
       "array([1, 0, 1, 0, 1, 1, 0], dtype=int64)"
      ]
     },
     "execution_count": 17,
     "metadata": {},
     "output_type": "execute_result"
    }
   ],
   "source": [
    "test_data['label'].values"
   ]
  },
  {
   "cell_type": "code",
   "execution_count": null,
   "metadata": {},
   "outputs": [],
   "source": []
  }
 ],
 "metadata": {
  "kernelspec": {
   "display_name": "cuda-enabled-tf",
   "language": "python",
   "name": "python3"
  },
  "language_info": {
   "codemirror_mode": {
    "name": "ipython",
    "version": 3
   },
   "file_extension": ".py",
   "mimetype": "text/x-python",
   "name": "python",
   "nbconvert_exporter": "python",
   "pygments_lexer": "ipython3",
   "version": "3.9.19"
  }
 },
 "nbformat": 4,
 "nbformat_minor": 2
}
